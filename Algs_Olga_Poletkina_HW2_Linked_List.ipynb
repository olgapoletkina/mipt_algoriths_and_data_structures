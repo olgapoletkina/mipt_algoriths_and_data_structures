{
  "cells": [
    {
      "cell_type": "code",
      "execution_count": 1,
      "metadata": {
        "id": "fSJ7TnBb4Uqj"
      },
      "outputs": [],
      "source": [
        "import numpy as np\n",
        "import pandas as pd\n",
        "import matplotlib.pyplot as plt"
      ]
    },
    {
      "cell_type": "code",
      "execution_count": 2,
      "metadata": {
        "id": "rS8ATRaE8uA4"
      },
      "outputs": [],
      "source": [
        "class Node:\n",
        "    def __init__(self, value):\n",
        "        self.value = value\n",
        "        self.next = None\n",
        "\n",
        "class LinkedList:\n",
        "    def __init__(self):\n",
        "        self.head = None # Голова списка (изначально пустая)\n",
        "        # self.tail = None\n",
        "\n",
        "    def append(self, value):\n",
        "        new_node = Node(value) # Создаем новый узел\n",
        "        if not self.head:\n",
        "            self.head = new_node # Если список пуст, новый узел становится головой\n",
        "            return\n",
        "\n",
        "        current = self.head # Начинаем с головы\n",
        "        while current.next: # Перемещаемся к последнему узлу\n",
        "            current = current.next\n",
        "        current.next = new_node # Добавляем новый узел в конец списка\n",
        "\n",
        "    def create_cycle(self, position):\n",
        "        if not self.head:\n",
        "            return\n",
        "        cycle_start = None # Узел, с которого начнется цикл\n",
        "        current = self.head\n",
        "        index = 0\n",
        "\n",
        "        while current.next: # Проходим по списку, чтобы найти последний узел и узел для цикла\n",
        "            if index == position:\n",
        "                cycle_start = current # Запоминаем узел, на который сделаем ссылку\n",
        "            current = current.next # Переход к следующему узлу\n",
        "            index += 1\n",
        "\n",
        "        if cycle_start: # Если найден узел, на который нужно сделать ссылку, создаем цикл\n",
        "            current.next = cycle_start\n",
        "\n",
        "    def print_list(self):\n",
        "        current = self.head\n",
        "        while current:\n",
        "            print(current.value, end=\" -> \")\n",
        "            current = current.next\n",
        "        print(\"None\")"
      ]
    },
    {
      "cell_type": "code",
      "execution_count": 3,
      "metadata": {
        "colab": {
          "base_uri": "https://localhost:8080/"
        },
        "id": "eQHgpazs7Q18",
        "outputId": "b6260c27-09f9-4123-92f2-dfed58d91c10"
      },
      "outputs": [
        {
          "name": "stdout",
          "output_type": "stream",
          "text": [
            "1 -> 2 -> 3 -> 4 -> None\n"
          ]
        }
      ],
      "source": [
        "list_1 = LinkedList()\n",
        "list_1.append(1)\n",
        "list_1.append(2)\n",
        "list_1.append(3)\n",
        "list_1.append(4)\n",
        "list_1.print_list()"
      ]
    },
    {
      "cell_type": "code",
      "execution_count": 4,
      "metadata": {
        "id": "rHYYLz_Y9DEH"
      },
      "outputs": [],
      "source": [
        "list_2 = LinkedList()\n",
        "list_2.append(1)\n",
        "list_2.append(2)\n",
        "list_2.append(3)\n",
        "list_2.append(4)\n",
        "list_2.create_cycle(2)"
      ]
    },
    {
      "cell_type": "markdown",
      "metadata": {
        "id": "q-O3xY3p2Zfp"
      },
      "source": [
        "# 1. Is cyclic?\n",
        "\n",
        "Дан односвязный список. Необходимо проверить, является ли этот список циклическим.\n",
        "Циклическим (кольцевым) списком называется список у которого последний узел ссылается на один из предыдущих узлов."
      ]
    },
    {
      "cell_type": "code",
      "execution_count": 5,
      "metadata": {
        "id": "72a2826HAdmt"
      },
      "outputs": [],
      "source": [
        "def has_cycle(head):\n",
        "    if not head or not head.next:\n",
        "        return False\n",
        "    slow = head\n",
        "    fast = head\n",
        "\n",
        "    while fast and fast.next:\n",
        "        slow = slow.next\n",
        "        fast = fast.next.next\n",
        "        if slow == fast:\n",
        "            return True\n",
        "    return False"
      ]
    },
    {
      "cell_type": "code",
      "execution_count": 6,
      "metadata": {
        "colab": {
          "base_uri": "https://localhost:8080/"
        },
        "id": "4NUgNS6VBn30",
        "outputId": "71b7bbb7-da49-4925-e563-72ee6b14ac2d"
      },
      "outputs": [
        {
          "name": "stdout",
          "output_type": "stream",
          "text": [
            "False\n"
          ]
        },
        {
          "data": {
            "text/plain": [
              "True"
            ]
          },
          "execution_count": 6,
          "metadata": {},
          "output_type": "execute_result"
        }
      ],
      "source": [
        "print(has_cycle(list_1.head))\n",
        "has_cycle(list_2.head)"
      ]
    },
    {
      "cell_type": "markdown",
      "metadata": {
        "id": "g9zRMWSQ8ksa"
      },
      "source": [
        "# 2. Reverse linked list\n",
        "\n",
        "Необходимо написать функцию, которая принимает на вход односвязный список и разворачивает его."
      ]
    },
    {
      "cell_type": "code",
      "execution_count": 7,
      "metadata": {
        "id": "t1pRTV5xBsqF"
      },
      "outputs": [],
      "source": [
        "def reverse_linked_list(head):\n",
        "    prev = None\n",
        "    current = head\n",
        "\n",
        "    while current != None:\n",
        "        next_node = current.next # Сохраняем ссылку на следующий узел\n",
        "        current.next = prev # Разворачиваем ссылку\n",
        "        prev = current # Двигаем prev вперед\n",
        "        current = next_node # Двигаем current вперед\n",
        "\n",
        "    return prev # Новая голова списка"
      ]
    },
    {
      "cell_type": "code",
      "execution_count": 8,
      "metadata": {
        "id": "YKvM7vNy_YHC"
      },
      "outputs": [],
      "source": [
        "list_1 = LinkedList()\n",
        "list_1.append(1)\n",
        "list_1.append(2)\n",
        "list_1.append(3)\n",
        "list_1.append(4)"
      ]
    },
    {
      "cell_type": "code",
      "execution_count": 9,
      "metadata": {
        "colab": {
          "base_uri": "https://localhost:8080/"
        },
        "id": "12Kn4KNO-gDb",
        "outputId": "fa67103f-eb7b-487c-a2a2-5f52f422f470"
      },
      "outputs": [
        {
          "name": "stdout",
          "output_type": "stream",
          "text": [
            "Original list:\n",
            "1 -> 2 -> 3 -> 4 -> None\n",
            "Reversed:\n",
            "4 -> 3 -> 2 -> 1 -> None\n"
          ]
        }
      ],
      "source": [
        "print(\"Original list:\")\n",
        "list_1.print_list()\n",
        "\n",
        "list_1.head = reverse_linked_list(list_1.head)\n",
        "print(\"Reversed:\")\n",
        "list_1.print_list()"
      ]
    },
    {
      "cell_type": "markdown",
      "metadata": {
        "id": "uXAYCCbnAZSl"
      },
      "source": [
        "# 3. Middle node in linked list\n",
        "\n",
        "Дан связный список. Необходимо найти середину списка. Сделать это необходимо за O(n) без дополнительных аллокаций\n"
      ]
    },
    {
      "cell_type": "code",
      "execution_count": 10,
      "metadata": {
        "id": "yaHvmZafAUUO"
      },
      "outputs": [],
      "source": [
        "def middle_node(head):\n",
        "    slow = fast = head\n",
        "    while fast != None and fast.next != None:\n",
        "        slow = slow.next\n",
        "        fast = fast.next.next\n",
        "    return slow.value"
      ]
    },
    {
      "cell_type": "code",
      "execution_count": 11,
      "metadata": {
        "id": "I2jCUAAc-qfb"
      },
      "outputs": [],
      "source": [
        "list_1 = LinkedList()\n",
        "for item in range(1, 12):\n",
        "    list_1.append(item)"
      ]
    },
    {
      "cell_type": "code",
      "execution_count": 12,
      "metadata": {
        "colab": {
          "base_uri": "https://localhost:8080/"
        },
        "id": "tOvdF2E-Ej8u",
        "outputId": "b6c4095a-9cf1-4a31-8447-778ca3f8e4b8"
      },
      "outputs": [
        {
          "name": "stdout",
          "output_type": "stream",
          "text": [
            "1 -> 2 -> 3 -> 4 -> 5 -> 6 -> 7 -> 8 -> 9 -> 10 -> 11 -> None\n",
            "Middle node:\n"
          ]
        },
        {
          "data": {
            "text/plain": [
              "6"
            ]
          },
          "execution_count": 12,
          "metadata": {},
          "output_type": "execute_result"
        }
      ],
      "source": [
        "list_1.print_list()\n",
        "print(\"Middle node:\")\n",
        "middle_node(list_1.head)"
      ]
    },
    {
      "cell_type": "markdown",
      "metadata": {
        "id": "bNekikz1FoDQ"
      },
      "source": [
        "# 4. Remove element from linked list\n",
        "\n",
        "Необходимо написать функцию, которая принимает на вход односвязный список и некоторое целое число val. Необходимо удалить узел из списка, значение которого равно val."
      ]
    },
    {
      "cell_type": "code",
      "execution_count": 13,
      "metadata": {
        "id": "2nTkQGvBEw9p"
      },
      "outputs": [],
      "source": [
        "def remove_element(head, val):\n",
        "    dummy = Node(0)  # Создаем фиктивный (dummy) узел перед head\n",
        "    dummy.next = head  # Фиктивный узел указывает на голову списка\n",
        "    prev = dummy  # Указатель на предыдущий узел\n",
        "    cur = head  # Текущий узел\n",
        "\n",
        "    while cur:\n",
        "        if cur.value == val:  # Если значение совпадает, удаляем узел\n",
        "            prev.next = cur.next  # Пропускаем текущий узел\n",
        "        else:\n",
        "            prev = cur  # Двигаем prev вперед\n",
        "        cur = cur.next  # Двигаем cur вперед\n",
        "\n",
        "    return dummy.next  # Возвращаем новую голову списка"
      ]
    },
    {
      "cell_type": "code",
      "execution_count": 14,
      "metadata": {
        "id": "QVNmvLozGuTc"
      },
      "outputs": [],
      "source": [
        "list_1 = LinkedList()\n",
        "for item in range(1, 12):\n",
        "    list_1.append(item)"
      ]
    },
    {
      "cell_type": "code",
      "execution_count": 15,
      "metadata": {
        "colab": {
          "base_uri": "https://localhost:8080/"
        },
        "id": "CPzBa86mGwwB",
        "outputId": "8f0e1acb-9c5e-414d-e57b-7519216b28d6"
      },
      "outputs": [
        {
          "name": "stdout",
          "output_type": "stream",
          "text": [
            "1 -> 2 -> 3 -> 4 -> 5 -> 6 -> 7 -> 8 -> 9 -> 10 -> 11 -> None\n",
            "remove node 7:\n",
            "1 -> 2 -> 3 -> 4 -> 5 -> 6 -> 8 -> 9 -> 10 -> 11 -> None\n"
          ]
        }
      ],
      "source": [
        "list_1.print_list()\n",
        "print(\"remove node 7:\")\n",
        "list_1.head = remove_element(list_1.head, val=7)\n",
        "list_1.print_list()"
      ]
    },
    {
      "cell_type": "markdown",
      "metadata": {
        "id": "O1zfzwzMHpWW"
      },
      "source": [
        "# 5. is subsequence?\n",
        "\n",
        "В исходную строку добавили некоторое количество символов. Необходимо выявить, была ли строка a исходной для строки b.\n"
      ]
    },
    {
      "cell_type": "code",
      "execution_count": 16,
      "metadata": {
        "id": "Sk30pwpfIgau"
      },
      "outputs": [],
      "source": [
        "from collections import deque"
      ]
    },
    {
      "cell_type": "code",
      "execution_count": 17,
      "metadata": {
        "id": "i89sDcIyG658"
      },
      "outputs": [],
      "source": [
        "def is_subsequence(a, b):\n",
        "    if len(a) > len(b):\n",
        "        return False\n",
        "    q = deque(a)\n",
        "    for char in b:\n",
        "        if q and char == q[0]: # Если элемент очереди совпадает\n",
        "            q.popleft() # Удаляем его из очереди\n",
        "\n",
        "    return len(q) == 0"
      ]
    },
    {
      "cell_type": "code",
      "execution_count": 18,
      "metadata": {
        "colab": {
          "base_uri": "https://localhost:8080/"
        },
        "id": "s8Jhm2FXJmDW",
        "outputId": "f150144d-4ab0-488f-ab2b-5aa492b6d1d4"
      },
      "outputs": [
        {
          "name": "stdout",
          "output_type": "stream",
          "text": [
            "False\n",
            "False\n"
          ]
        },
        {
          "data": {
            "text/plain": [
              "True"
            ]
          },
          "execution_count": 18,
          "metadata": {},
          "output_type": "execute_result"
        }
      ],
      "source": [
        "print(is_subsequence(\"abc\", \"ahgdc\"))\n",
        "print(is_subsequence(\"ahbgdc\", \"abc\"))\n",
        "is_subsequence(\"abc\", \"ahgbdc\")"
      ]
    },
    {
      "cell_type": "markdown",
      "metadata": {
        "id": "OksVvwa1K1KV"
      },
      "source": [
        "# 5. is subsequence? -> Two pointer method\n",
        "\n",
        "В исходную строку добавили некоторое количество символов. Необходимо выявить, была ли строка a исходной для строки b."
      ]
    },
    {
      "cell_type": "code",
      "execution_count": 19,
      "metadata": {
        "id": "5hmF3bqEKfdK"
      },
      "outputs": [],
      "source": [
        "def is_subsequence_pointers(a, b):\n",
        "    if len(a) > len(b):\n",
        "        return False\n",
        "\n",
        "    pointer_a = 0\n",
        "    pointer_b = 0\n",
        "\n",
        "    while pointer_a < len(a) and pointer_b < len(b):\n",
        "        if a[pointer_a] == b[pointer_b]:\n",
        "            pointer_a += 1\n",
        "            pointer_b += 1\n",
        "        else:\n",
        "            pointer_b += 1\n",
        "\n",
        "    return pointer_a == len(a)"
      ]
    },
    {
      "cell_type": "code",
      "execution_count": 20,
      "metadata": {
        "colab": {
          "base_uri": "https://localhost:8080/"
        },
        "id": "Rm4aOPjLMrbl",
        "outputId": "c8c18d8a-5a1c-4622-92de-c453224c7acb"
      },
      "outputs": [
        {
          "name": "stdout",
          "output_type": "stream",
          "text": [
            "False\n",
            "False\n"
          ]
        },
        {
          "data": {
            "text/plain": [
              "True"
            ]
          },
          "execution_count": 20,
          "metadata": {},
          "output_type": "execute_result"
        }
      ],
      "source": [
        "print(is_subsequence_pointers(\"abc\", \"ahgdc\"))\n",
        "print(is_subsequence_pointers(\"ahbgdc\", \"abc\"))\n",
        "is_subsequence_pointers(\"abc\", \"ahgbdc\")"
      ]
    },
    {
      "cell_type": "markdown",
      "metadata": {
        "id": "j91QKItpM6mI"
      },
      "source": [
        "# 6. Is Palindrome?\n",
        "\n",
        "Напишите функцию, которая принимает на вход строку и возвращает true, если она является палиндромом*. В противном случае верните false.\n",
        "\n",
        "*слово или текст, одинаково читающиеся в обоих направлениях.\n"
      ]
    },
    {
      "cell_type": "code",
      "execution_count": 21,
      "metadata": {
        "id": "M3gDqLS5M1q-"
      },
      "outputs": [],
      "source": [
        "def is_palindrome(word):\n",
        "\n",
        "    word = ''.join(word.lower().split())\n",
        "    a = deque(word)\n",
        "\n",
        "    while len(a) > 1:\n",
        "        if a.popleft() != a.pop():\n",
        "            return False\n",
        "    return True"
      ]
    },
    {
      "cell_type": "code",
      "execution_count": 22,
      "metadata": {
        "colab": {
          "base_uri": "https://localhost:8080/"
        },
        "id": "Lk99wdKVN-te",
        "outputId": "323a6f33-c8d4-4f8d-921f-a553435b8bfb"
      },
      "outputs": [
        {
          "name": "stdout",
          "output_type": "stream",
          "text": [
            "True\n"
          ]
        },
        {
          "data": {
            "text/plain": [
              "False"
            ]
          },
          "execution_count": 22,
          "metadata": {},
          "output_type": "execute_result"
        }
      ],
      "source": [
        "print(is_palindrome(\"racecar\"))\n",
        "is_palindrome(\"hello\")"
      ]
    },
    {
      "cell_type": "markdown",
      "metadata": {
        "id": "evyodinBONUB"
      },
      "source": [
        "# 7. Is Palindrome? -> Two pointer method"
      ]
    },
    {
      "cell_type": "code",
      "execution_count": 23,
      "metadata": {
        "id": "0ZiEiBuhOBO2"
      },
      "outputs": [],
      "source": [
        "def is_palindrome_pointers(word):\n",
        "\n",
        "    word = ''.join(word.lower().split())\n",
        "    left = 0\n",
        "    right = len(word)-1\n",
        "\n",
        "    while left < right:\n",
        "        if word[left] != word[right]:\n",
        "            return False\n",
        "        left += 1\n",
        "        right -= 1\n",
        "    return True"
      ]
    },
    {
      "cell_type": "code",
      "execution_count": 24,
      "metadata": {
        "colab": {
          "base_uri": "https://localhost:8080/"
        },
        "id": "Vhee88rAO3CZ",
        "outputId": "c76d3d4e-a76f-400c-bf22-b86645fd9148"
      },
      "outputs": [
        {
          "name": "stdout",
          "output_type": "stream",
          "text": [
            "True\n"
          ]
        },
        {
          "data": {
            "text/plain": [
              "False"
            ]
          },
          "execution_count": 24,
          "metadata": {},
          "output_type": "execute_result"
        }
      ],
      "source": [
        "print(is_palindrome_pointers(\"racecar\"))\n",
        "is_palindrome_pointers(\"hello\")"
      ]
    },
    {
      "cell_type": "markdown",
      "metadata": {
        "id": "ZJNuhn9hPHyp"
      },
      "source": [
        "# 8. Merge two sorted linked lists.\n",
        "\n",
        "Написать функцию, которая принимает на вход два отсортированных односвязных списка и объединяет их в один отсортированный список. При этом затраты по памяти должны быть O(1)"
      ]
    },
    {
      "cell_type": "code",
      "execution_count": 25,
      "metadata": {
        "id": "YND606KEPGpE"
      },
      "outputs": [],
      "source": [
        "def merge_sorted_linked_lists(head1, head2):\n",
        "\n",
        "    if not head1:\n",
        "        return head2\n",
        "    if not head2:\n",
        "        return head1 # Если head1 или head2 пустые, возвращаем другой список\n",
        "\n",
        "    if head1.value < head2.value: # Выбираем меньший начальный элемент\n",
        "        merged_head = head1\n",
        "        head1 = head1.next\n",
        "    else:\n",
        "        merged_head = head2\n",
        "        head2 = head2.next\n",
        "\n",
        "    current = merged_head\n",
        "\n",
        "    while head1 and head2:\n",
        "        if head1.value < head2.value: # Последовательно сравниваем элементы и добавляем в объединенный список\n",
        "            current.next = head1\n",
        "            head1 = head1.next\n",
        "        else:\n",
        "            current.next = head2\n",
        "            head2 = head2.next\n",
        "        current = current.next  # Двигаем указатель\n",
        "\n",
        "    # Если один список закончился, добавляем оставшиеся элементы\n",
        "    current.next = head1 if head1 else head2\n",
        "\n",
        "    return merged_head  # Возвращаем голову объединенного списка"
      ]
    },
    {
      "cell_type": "code",
      "execution_count": 26,
      "metadata": {
        "colab": {
          "base_uri": "https://localhost:8080/"
        },
        "id": "319ztVw1QUuE",
        "outputId": "b41d2001-d6f3-4fc3-96ff-15788cb20445"
      },
      "outputs": [
        {
          "name": "stdout",
          "output_type": "stream",
          "text": [
            "1 -> 3 -> 6 -> 10 -> None\n",
            "1 -> 2 -> 5 -> 8 -> None\n"
          ]
        }
      ],
      "source": [
        "list_1 = LinkedList()\n",
        "for item in [1, 3, 6, 10]:\n",
        "    list_1.append(item)\n",
        "\n",
        "list_2 = LinkedList()\n",
        "for item in [1, 2, 5, 8]:\n",
        "    list_2.append(item)\n",
        "\n",
        "list_1.print_list()\n",
        "list_2.print_list()"
      ]
    },
    {
      "cell_type": "code",
      "execution_count": 27,
      "metadata": {
        "colab": {
          "base_uri": "https://localhost:8080/"
        },
        "id": "n4lg_Ya_Qlnn",
        "outputId": "4749d7d0-9e7a-4602-f580-7db73e05e512"
      },
      "outputs": [
        {
          "name": "stdout",
          "output_type": "stream",
          "text": [
            "1 -> 1 -> 2 -> 3 -> 5 -> 6 -> 8 -> 10 -> None\n"
          ]
        }
      ],
      "source": [
        "merged_head = merge_sorted_linked_lists(list_1.head, list_2.head)\n",
        "merged_list = LinkedList()\n",
        "merged_list.head = merged_head\n",
        "merged_list.print_list()"
      ]
    },
    {
      "cell_type": "code",
      "execution_count": null,
      "metadata": {
        "id": "wiUhk3BlQuBw"
      },
      "outputs": [],
      "source": []
    }
  ],
  "metadata": {
    "colab": {
      "provenance": [],
      "toc_visible": true
    },
    "kernelspec": {
      "display_name": ".venv",
      "language": "python",
      "name": "python3"
    },
    "language_info": {
      "codemirror_mode": {
        "name": "ipython",
        "version": 3
      },
      "file_extension": ".py",
      "mimetype": "text/x-python",
      "name": "python",
      "nbconvert_exporter": "python",
      "pygments_lexer": "ipython3",
      "version": "3.12.2"
    }
  },
  "nbformat": 4,
  "nbformat_minor": 0
}
