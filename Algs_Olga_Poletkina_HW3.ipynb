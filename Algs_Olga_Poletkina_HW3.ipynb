{
  "nbformat": 4,
  "nbformat_minor": 0,
  "metadata": {
    "colab": {
      "provenance": []
    },
    "kernelspec": {
      "name": "python3",
      "display_name": "Python 3"
    },
    "language_info": {
      "name": "python"
    }
  },
  "cells": [
    {
      "cell_type": "markdown",
      "source": [
        "# Сортировки. Хеш-таблица\n",
        "### Найти корень числа (ближайшее целое)"
      ],
      "metadata": {
        "id": "OsKNRl8KxTD_"
      }
    },
    {
      "cell_type": "code",
      "execution_count": 73,
      "metadata": {
        "colab": {
          "base_uri": "https://localhost:8080/",
          "height": 0
        },
        "id": "Y6RZ2bb-wQix",
        "outputId": "a194985d-bff5-4190-c750-9588ef6723c0"
      },
      "outputs": [
        {
          "output_type": "stream",
          "name": "stdout",
          "text": [
            "[0, 1, 2, 3, 4, 5, 6, 7, 8, 9, 10, 11, 12, 13, 14, 15, 16]\n",
            "5\n",
            "5\n",
            "0\n",
            "1\n",
            "4\n"
          ]
        }
      ],
      "source": [
        "def binary_search_sqrt(target):\n",
        "    l = 0\n",
        "    r = target\n",
        "    while l <= r:\n",
        "        middle = (l + r)//2\n",
        "        if middle * middle == target:\n",
        "            return middle\n",
        "        elif middle * middle < target:\n",
        "            l = middle + 1\n",
        "        else:\n",
        "            r = middle - 1\n",
        "    return r\n",
        "\n",
        "\n",
        "lst = list(range(17))\n",
        "print(lst)\n",
        "\n",
        "print(binary_search_sqrt(25))\n",
        "print(binary_search_sqrt(27))\n",
        "print(binary_search_sqrt(0))\n",
        "print(binary_search_sqrt(1))\n",
        "print(binary_search_sqrt(16))"
      ]
    },
    {
      "cell_type": "markdown",
      "source": [
        "### Очень лёгкая задача\n",
        "\n",
        "Как быстро можно сделать N копий документа, используя два ксерокса, каждый копирует со своей скоростью (x и y минут)?\n",
        "\n",
        "Сегодня утром жюри решило добавить в вариант олимпиады еще одну, Очень Легкую Задачу. Ответственный секретарь Оргкомитета напечатал ее условие в одном экземпляре, и теперь ему нужно до начала олимпиады успеть сделать еще N копий. В его распоряжении имеются два ксерокса, один из которых копирует лист за х секунд, а другой – за y. (Разрешается использовать как один ксерокс, так и оба одновременно. Можно копировать не только с оригинала, но и с копии.) Помогите ему выяснить, какое минимальное время для этого потребуется.\n"
      ],
      "metadata": {
        "id": "yJ0r9u730CeO"
      }
    },
    {
      "cell_type": "code",
      "source": [
        "def copy_time(n, x, y):\n",
        "    l = 0\n",
        "    r = (n - 1) * max(x, y)\n",
        "    # print(l, r)\n",
        "    while l <= r:\n",
        "        middle = (l + r) // 2\n",
        "        if middle // x + middle // y >= n:\n",
        "            # print(middle)\n",
        "            r = middle - 1\n",
        "        else:\n",
        "            l = middle + 1\n",
        "    return l\n",
        "\n",
        "print(copy_time(10, 1, 2))\n",
        "print(copy_time(100, 1, 2))\n",
        "print(copy_time(50, 3, 2))\n",
        "print(copy_time(50, 1, 1))"
      ],
      "metadata": {
        "colab": {
          "base_uri": "https://localhost:8080/",
          "height": 0
        },
        "id": "ZCyQcSATyqtt",
        "outputId": "559e447e-9fed-422a-d4ae-da68d99f0408"
      },
      "execution_count": 74,
      "outputs": [
        {
          "output_type": "stream",
          "name": "stdout",
          "text": [
            "7\n",
            "67\n",
            "60\n",
            "25\n"
          ]
        }
      ]
    },
    {
      "cell_type": "markdown",
      "source": [
        "### Накормить животных\n",
        "\n",
        "В небольшом зоопарке есть некоторое количество животных.\n",
        "Каждое животное потребляет какой-то объем еды, выраженный в целочисленном значении. Например, еноту нужна 1-порция еды, зебре 2, пантере 3, льву 4, жирафу 8 и т.д.\n",
        "Каждый день, смотритель зоопарка привозит еду такими же порциями. То есть за раз он привозит 8, 3, 9, 1, 7. Порция на 8 может накормить одно животное один раз. То есть такая порция может накормить либо енота, либо льва, либо жирафа, но не может накормить, например зебру и енота. Только кого-то одного.\n",
        "Надо написать функцию, которая определит, сколько из переданных животных может накормить заданное количество еды.\n"
      ],
      "metadata": {
        "id": "vmdUNvQ42uuS"
      }
    },
    {
      "cell_type": "code",
      "source": [
        "def feed_animals(animals, food):\n",
        "    if len(animals) == 0 or len(food) == 0:\n",
        "        return 0\n",
        "\n",
        "    animals.sort()\n",
        "    food.sort()\n",
        "    print(f'animals : {animals}')\n",
        "    print(f'food    : {food}')\n",
        "\n",
        "    food_index = 0\n",
        "    animals_index = 0\n",
        "    result = 0\n",
        "\n",
        "    while food_index < len(food) and animals_index < len(animals):\n",
        "        if food[food_index] >= animals[animals_index]:\n",
        "            result += 1\n",
        "            animals_index += 1\n",
        "            food_index += 1\n",
        "        else:\n",
        "            food_index += 1\n",
        "\n",
        "    return result\n",
        "\n",
        "print(feed_animals([8, 2, 3, 2], [1, 4, 3, 8]))\n",
        "print(feed_animals([8, 10, 1, 2], [1, 6, 5, 8]))"
      ],
      "metadata": {
        "colab": {
          "base_uri": "https://localhost:8080/",
          "height": 0
        },
        "id": "iKi4mymw2aUe",
        "outputId": "6ab8f7cc-b57f-465a-b7c3-162d3c2aa59b"
      },
      "execution_count": 75,
      "outputs": [
        {
          "output_type": "stream",
          "name": "stdout",
          "text": [
            "animals : [2, 2, 3, 8]\n",
            "food    : [1, 3, 4, 8]\n",
            "3\n",
            "animals : [1, 2, 8, 10]\n",
            "food    : [1, 5, 6, 8]\n",
            "3\n"
          ]
        }
      ]
    },
    {
      "cell_type": "code",
      "source": [
        "def feed_animals_asc_desc(animals, food, order='asc'):\n",
        "    if len(animals) == 0 or len(food) == 0:\n",
        "        return 0\n",
        "\n",
        "    if order not in ['asc', 'desc']:\n",
        "        raise ValueError(\"Invalid order! Use 'asc' or 'desc'.\")\n",
        "\n",
        "    ascending = order == 'asc'\n",
        "\n",
        "    animals.sort(reverse=not ascending)\n",
        "    food.sort(reverse=not ascending)\n",
        "\n",
        "    print(f'animals : {animals}')\n",
        "    print(f'food    : {food}')\n",
        "\n",
        "    food_index = 0\n",
        "    animals_index = 0\n",
        "    result = 0\n",
        "\n",
        "    while food_index < len(food) and animals_index < len(animals):\n",
        "        if (ascending and food[food_index] >= animals[animals_index]) or \\\n",
        "           (not ascending and food[food_index] <= animals[animals_index]):\n",
        "            result += 1\n",
        "            animals_index += 1\n",
        "            food_index += 1\n",
        "        else:\n",
        "            food_index += 1\n",
        "\n",
        "    return result\n",
        "\n",
        "print(feed_animals_asc_desc([2, 3, 2, 8], [1, 3, 4, 8], order='desc'))\n",
        "print(feed_animals_asc_desc([8, 10, 1, 2], [1, 6, 5, 8]))"
      ],
      "metadata": {
        "colab": {
          "base_uri": "https://localhost:8080/",
          "height": 0
        },
        "id": "HSObYT6R41Qq",
        "outputId": "cea98b32-dbc9-48c7-cd73-0788cedd02cd"
      },
      "execution_count": 76,
      "outputs": [
        {
          "output_type": "stream",
          "name": "stdout",
          "text": [
            "animals : [8, 3, 2, 2]\n",
            "food    : [8, 4, 3, 1]\n",
            "3\n",
            "animals : [1, 2, 8, 10]\n",
            "food    : [1, 5, 6, 8]\n",
            "3\n"
          ]
        }
      ]
    },
    {
      "cell_type": "markdown",
      "source": [
        "### Найти разницу между двух строк\n",
        "\n",
        "На вход функции подается две строки: a и b. Строка b образована из строки a путем перемешивания и добавления одной буквы. Необходимо вернуть эту букву\n"
      ],
      "metadata": {
        "id": "MTPdjDtd4okn"
      }
    },
    {
      "cell_type": "code",
      "source": [
        "# a = 'abnfffdddytr'\n",
        "# hash_map_a = {}\n",
        "# for char in a:\n",
        "#     hash_map_a[char] = hash_map_a.get(char, 0) + 1\n",
        "# print(hash_map_a)"
      ],
      "metadata": {
        "id": "A3H7TASs8osJ"
      },
      "execution_count": 77,
      "outputs": []
    },
    {
      "cell_type": "code",
      "source": [
        "def extra_letter(a, b):\n",
        "    hash_map_a = {}\n",
        "    for char in a:\n",
        "        hash_map_a[char] = hash_map_a.get(char, 0) + 1\n",
        "\n",
        "    for char in b:\n",
        "        if char in hash_map_a:\n",
        "            hash_map_a[char] -= 1\n",
        "            if hash_map_a[char] == 0:\n",
        "                del hash_map_a[char]\n",
        "            continue\n",
        "        return char\n",
        "    return \"\"\n",
        "\n",
        "print(extra_letter(\"abcd\", \"abcde\"))\n",
        "print(extra_letter(\"xyz\", \"yxza\"))\n",
        "print(extra_letter(\"\", \"y\"))\n",
        "print(extra_letter(\"y\", \"y\"))\n",
        "print(extra_letter(\"hello\", \"heollp\"))"
      ],
      "metadata": {
        "colab": {
          "base_uri": "https://localhost:8080/",
          "height": 0
        },
        "id": "kUoJhjVZ32Ts",
        "outputId": "b70fac0a-2be3-4bb3-8660-05b6150660e2"
      },
      "execution_count": 78,
      "outputs": [
        {
          "output_type": "stream",
          "name": "stdout",
          "text": [
            "e\n",
            "a\n",
            "y\n",
            "\n",
            "p\n"
          ]
        }
      ]
    },
    {
      "cell_type": "code",
      "source": [
        "def extra_letters(a, b):\n",
        "    hash_map_a = {}\n",
        "    for char in a:\n",
        "        hash_map_a[char] = hash_map_a.get(char, 0) + 1\n",
        "    extra_chars = []\n",
        "    for char in b:\n",
        "        if char in hash_map_a:\n",
        "            hash_map_a[char] -= 1\n",
        "            if hash_map_a[char] == 0:\n",
        "                del hash_map_a[char]\n",
        "        else:\n",
        "            extra_chars.append(char)\n",
        "    return extra_chars if extra_chars else \"\"\n",
        "\n",
        "print(*extra_letters(\"abcd\", \"abcdepq\"))\n",
        "print(*extra_letters(\"xyz\", \"yzx\"))\n",
        "print(*extra_letters(\"xyz\", \"yxzaw\"))"
      ],
      "metadata": {
        "colab": {
          "base_uri": "https://localhost:8080/",
          "height": 0
        },
        "id": "rxh6vee29hDU",
        "outputId": "7b159aa0-d3aa-4517-f89f-d1a3293208b0"
      },
      "execution_count": 82,
      "outputs": [
        {
          "output_type": "stream",
          "name": "stdout",
          "text": [
            "e p q\n",
            "\n",
            "a w\n"
          ]
        }
      ]
    },
    {
      "cell_type": "code",
      "source": [
        "def extra_letter_sum(a, b):\n",
        "    calc = abs(sum(map(ord, b)) - sum(map(ord, a)))\n",
        "    return chr(calc)\n",
        "\n",
        "print(extra_letter(\"abcd\", \"abcde\"))\n",
        "print(extra_letter(\"xyz\", \"yxza\"))"
      ],
      "metadata": {
        "colab": {
          "base_uri": "https://localhost:8080/",
          "height": 0
        },
        "id": "BzOuUK1o-jpD",
        "outputId": "66d81de1-7ae8-4a9e-e830-b9fd44da6a82"
      },
      "execution_count": 80,
      "outputs": [
        {
          "output_type": "stream",
          "name": "stdout",
          "text": [
            "e\n",
            "a\n"
          ]
        }
      ]
    },
    {
      "cell_type": "markdown",
      "source": [
        "### Сумма двух элементов массива\n",
        "\n",
        "Дан не отсортированный массив целых чисел и некоторое число target. Необходимо написать функцию, которая найдет два таких элемента в массиве, сумма которых будет равна target\n",
        "Один элемент можно использовать лишь один раз. В случае если два таких элемента не нашлось, возвращаем пустой массив\n"
      ],
      "metadata": {
        "id": "OCvH27ut_TwV"
      }
    },
    {
      "cell_type": "code",
      "source": [
        "# data = [2, 7, 11, 15]\n",
        "# d = {}\n",
        "# for i in range (len(data)):\n",
        "#         d[data[i]] = i\n",
        "\n",
        "# d"
      ],
      "metadata": {
        "id": "QkzHnlrQFAnU"
      },
      "execution_count": 92,
      "outputs": []
    },
    {
      "cell_type": "code",
      "source": [
        "def two_sum(data, target):\n",
        "    d = {}\n",
        "    for i in range (len(data)):\n",
        "        d[data[i]] = i\n",
        "\n",
        "    for i in range(len(data)):\n",
        "        diff = target - data[i]\n",
        "        if diff in d and d[diff] != i:\n",
        "            return f'indices: {i, d[diff]}, items: {data[i], data[d[diff]]}, target: {target}'\n",
        "    return[]\n",
        "\n",
        "print(two_sum([2, 7, 11, 15], 9))\n",
        "print(two_sum([3, 2, 4, 5, 1, 7], 6))\n",
        "print(two_sum([3, 4], 6))\n",
        "print(two_sum([1, 2, 3, 4, 4, 9], 8))"
      ],
      "metadata": {
        "colab": {
          "base_uri": "https://localhost:8080/"
        },
        "id": "fZdskV20_PXi",
        "outputId": "831a7a79-d0a4-42e7-f0b5-0a3a46e4cc5e"
      },
      "execution_count": 96,
      "outputs": [
        {
          "output_type": "stream",
          "name": "stdout",
          "text": [
            "indices: (0, 1), items: (2, 7), target: 9\n",
            "indices: (1, 2), items: (2, 4), target: 6\n",
            "[]\n",
            "indices: (3, 4), items: (4, 4), target: 8\n"
          ]
        }
      ]
    },
    {
      "cell_type": "markdown",
      "source": [
        "### Сортировка шелла\n",
        "\n",
        "Усовершенствованный алгоритм сортировки вставками (?)\n",
        "Сравниваем не рядом стоящие элементы, а элементы, которые располагаются на определенном удалении (шаге) друг от друга.\n",
        "На каждой итерации шаг уменьшается в два раза, пока не станет равным единицы\n",
        "На последнем проходе, когда gap = 1 сортировка вырождается в сортировку вставками.\n"
      ],
      "metadata": {
        "id": "vtDy4UT-MEWa"
      }
    },
    {
      "cell_type": "code",
      "source": [
        "def shell_sort(arr):\n",
        "    n = len(arr)\n",
        "    gap = n // 2\n",
        "    while gap > 0:\n",
        "        for i in range(gap, n):\n",
        "            temp = arr[i] #запоминаем текущий элемент\n",
        "            j = i # указатель на текущий\n",
        "            while j >= gap and arr[j - gap] > temp: #если больше текущего\n",
        "                arr[j] = arr[j - gap] #перенос на место справа\n",
        "                j -= gap #сдвигаем на геп влево\n",
        "            arr[j] = temp #вставляем темп на свое место\n",
        "        gap //= 2 # уменьшаем щаг вдаое\n",
        "    return arr\n",
        "\n",
        "print(shell_sort([3, 2, 4, 5, 1, 7]))"
      ],
      "metadata": {
        "colab": {
          "base_uri": "https://localhost:8080/"
        },
        "id": "z_ER_NtyKc_R",
        "outputId": "cc7f28cf-0dd2-4dbf-f049-dc40e3e3e411"
      },
      "execution_count": 99,
      "outputs": [
        {
          "output_type": "stream",
          "name": "stdout",
          "text": [
            "[1, 2, 3, 4, 5, 7]\n"
          ]
        }
      ]
    },
    {
      "cell_type": "markdown",
      "source": [
        "### Массив анаграмм\n",
        "\n",
        "Дан массив строк strs. Сгруппируйте анаграммы вместе. Вы можете вернуть ответ в любом порядке.\n",
        "\n",
        "Анаграмма - это слово или фраза, полученная путем перестановки букв другого слова или фразы, обычно с использованием всех исходных букв ровно один раз.\n",
        "```\n",
        "Входные данные: [\"eat\",\"tea\",\"tan\",\"ate\",\"nat\",\"bat\"]\n",
        "Выходные: [[\"bat\"],[\"nat\",\"tan\"],[\"ate\",\"eat\",\"tea\"]]\n",
        "\n",
        "Входные данные: [\"won\",\"now\",\"aaa\",\"ooo\",\"ooo\"]\n",
        "Выходные: [[\"aaa\"],[\"ooo\", \"ooo\"],[\"won\",\"now\"]]\n",
        "```"
      ],
      "metadata": {
        "id": "UlUo4P3VPqGS"
      }
    },
    {
      "cell_type": "code",
      "source": [
        "print(set('abc'))\n",
        "print(set('cba'))\n",
        "\n",
        "set('abc') == set('cba')"
      ],
      "metadata": {
        "colab": {
          "base_uri": "https://localhost:8080/"
        },
        "id": "O9oPE-avPkTi",
        "outputId": "cd216e63-5f1d-4664-cf15-90b7abf2b669"
      },
      "execution_count": 105,
      "outputs": [
        {
          "output_type": "stream",
          "name": "stdout",
          "text": [
            "{'b', 'c', 'a'}\n",
            "{'b', 'c', 'a'}\n"
          ]
        },
        {
          "output_type": "execute_result",
          "data": {
            "text/plain": [
              "True"
            ]
          },
          "metadata": {},
          "execution_count": 105
        }
      ]
    },
    {
      "cell_type": "code",
      "source": [
        "def group_anagrams(inp_list):\n",
        "    d = {}\n",
        "    for word in inp_list:\n",
        "        sorted_word = ''.join(sorted(word))\n",
        "        if sorted_word not in d:\n",
        "            d[sorted_word] = [word]\n",
        "        else:\n",
        "            d[sorted_word].append(word)\n",
        "    return list(d.values())\n",
        "\n",
        "print(group_anagrams([\"eat\",\"tea\",\"tan\",\"ate\",\"nat\",\"bat\"]))\n",
        "print(group_anagrams([\"won\",\"now\",\"aaa\",\"ooo\",\"ooo\"]))"
      ],
      "metadata": {
        "colab": {
          "base_uri": "https://localhost:8080/"
        },
        "id": "r0FV_KpdQzNA",
        "outputId": "7c60672f-1b7c-4e91-8d52-8bc8cbd4d5c2"
      },
      "execution_count": 106,
      "outputs": [
        {
          "output_type": "stream",
          "name": "stdout",
          "text": [
            "[['eat', 'tea', 'ate'], ['tan', 'nat'], ['bat']]\n",
            "[['won', 'now'], ['aaa'], ['ooo', 'ooo']]\n"
          ]
        }
      ]
    }
  ]
}