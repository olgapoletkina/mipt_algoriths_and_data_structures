{
  "nbformat": 4,
  "nbformat_minor": 0,
  "metadata": {
    "colab": {
      "provenance": []
    },
    "kernelspec": {
      "name": "python3",
      "display_name": "Python 3"
    },
    "language_info": {
      "name": "python"
    }
  },
  "cells": [
    {
      "cell_type": "code",
      "source": [
        "import numpy as np\n",
        "import pandas as pd"
      ],
      "metadata": {
        "id": "BOySytTuQzkS"
      },
      "execution_count": 1,
      "outputs": []
    },
    {
      "cell_type": "markdown",
      "source": [
        "# Динамическое программирование"
      ],
      "metadata": {
        "id": "JLrV9Ut1Qg47"
      }
    },
    {
      "cell_type": "markdown",
      "source": [
        "## Последовательность из 0 и 1\n",
        "\n",
        "Требуется подсчитать количество последовательностей длины N состоящей из 0 и 1 в которых нет стоящих подряд двух единиц"
      ],
      "metadata": {
        "id": "NoHnOiq1QkGR"
      }
    },
    {
      "cell_type": "code",
      "execution_count": 8,
      "metadata": {
        "colab": {
          "base_uri": "https://localhost:8080/"
        },
        "id": "Nu1em-YUQTqU",
        "outputId": "e136bd00-6ecb-4a4a-f637-03e89147ade2"
      },
      "outputs": [
        {
          "output_type": "stream",
          "name": "stdout",
          "text": [
            "8\n",
            "17711\n"
          ]
        }
      ],
      "source": [
        "def b_sequences(n):\n",
        "    if n == 1:\n",
        "        return 2\n",
        "    if n == 2:\n",
        "        return 3\n",
        "    return b_sequences(n - 1) + b_sequences(n - 2)\n",
        "\n",
        "print(b_sequences(4))\n",
        "print(b_sequences(20))"
      ]
    },
    {
      "cell_type": "markdown",
      "source": [
        "- Попробуем найти рекуррентное соотношение\n",
        "- Определяем базовые случаи: для n = 0, количество последовательностей равно 1 (пустая последовательность), для n = 1, количество последовательностей равно 2 (0 или 1).\n",
        "- Создаем массив dp размером, где dp[i] будет хранить количество последовательностей длины i."
      ],
      "metadata": {
        "id": "LG9E6MuPZ6bf"
      }
    },
    {
      "cell_type": "code",
      "source": [
        "def b_sequences(n):\n",
        "    dp = [1, 2]  # dp[0] = 1 (длина 0), dp[1] = 2 (длина 1)\n",
        "    for i in range(2, n + 1):\n",
        "        dp.append(dp[i - 1] + dp[i - 2])\n",
        "        print(f\"dp[{i}] = dp[{i-1}] + dp[{i-2}] = {dp[i-1]} + {dp[i-2]} = {dp[i]}\")\n",
        "    return dp[n]\n",
        "\n",
        "print(b_sequences(5))\n",
        "print(b_sequences(15))"
      ],
      "metadata": {
        "colab": {
          "base_uri": "https://localhost:8080/"
        },
        "id": "PnQPxVKkZqle",
        "outputId": "9e645633-7721-44dc-d605-2a99ec54cd2b"
      },
      "execution_count": 14,
      "outputs": [
        {
          "output_type": "stream",
          "name": "stdout",
          "text": [
            "dp[2] = dp[1] + dp[0] = 2 + 1 = 3\n",
            "dp[3] = dp[2] + dp[1] = 3 + 2 = 5\n",
            "dp[4] = dp[3] + dp[2] = 5 + 3 = 8\n",
            "dp[5] = dp[4] + dp[3] = 8 + 5 = 13\n",
            "13\n",
            "dp[2] = dp[1] + dp[0] = 2 + 1 = 3\n",
            "dp[3] = dp[2] + dp[1] = 3 + 2 = 5\n",
            "dp[4] = dp[3] + dp[2] = 5 + 3 = 8\n",
            "dp[5] = dp[4] + dp[3] = 8 + 5 = 13\n",
            "dp[6] = dp[5] + dp[4] = 13 + 8 = 21\n",
            "dp[7] = dp[6] + dp[5] = 21 + 13 = 34\n",
            "dp[8] = dp[7] + dp[6] = 34 + 21 = 55\n",
            "dp[9] = dp[8] + dp[7] = 55 + 34 = 89\n",
            "dp[10] = dp[9] + dp[8] = 89 + 55 = 144\n",
            "dp[11] = dp[10] + dp[9] = 144 + 89 = 233\n",
            "dp[12] = dp[11] + dp[10] = 233 + 144 = 377\n",
            "dp[13] = dp[12] + dp[11] = 377 + 233 = 610\n",
            "dp[14] = dp[13] + dp[12] = 610 + 377 = 987\n",
            "dp[15] = dp[14] + dp[13] = 987 + 610 = 1597\n",
            "1597\n"
          ]
        }
      ]
    },
    {
      "cell_type": "markdown",
      "source": [
        "## Последовательность без трех единиц подряд\n",
        "\n",
        "Определите количество последовательностей из нулей и единиц длины, в которых никакие три единицы не стоят рядом.\n",
        "\n",
        "- Если последний элемент — `0`, то перед ним может стоять последовательность любой длины n-1 без трех единиц подряд\n",
        "- Если последний элемент — `1`, рассмотрим два случая:\n",
        "-- Если предпоследний элемент также `1`, то элемент перед рассматриваемой парой единиц не может быть 1 (чтобы не было трех единиц подряд), и перед этим элементом может быть любая последовательность длины `n-3`.\n",
        "-- Если предпоследний элемент - `0`, перед ним может быть любая последовательность длины `n-2`.\n",
        "\n",
        "Таким образом, мы можем выразить количество последовательностей длины `n` через количество последовательностей более коротких длин:\n"
      ],
      "metadata": {
        "id": "Q32ukpnWg67L"
      }
    },
    {
      "cell_type": "code",
      "source": [
        "def count_sequences(n):\n",
        "    if n == 0:\n",
        "        return 1\n",
        "    if n == 1:\n",
        "        return 2\n",
        "    if n == 2:\n",
        "        return 4\n",
        "    dp = [1,2,4]\n",
        "\n",
        "    for i in range(3, n + 1):\n",
        "        new_value = dp[i-1] + dp[i-2] + dp[i-3]\n",
        "        dp.append(new_value)\n",
        "        print(f\"dp[{i}] = dp[{i-1}] + dp[{i-2}] + dp[{i-3}] = {dp[i-1]} + {dp[i-2]} + {dp[i-3]} = {new_value}\")\n",
        "\n",
        "    return dp[n]\n",
        "\n",
        "\n",
        "print(count_sequences(5))\n",
        "print(count_sequences(10))"
      ],
      "metadata": {
        "colab": {
          "base_uri": "https://localhost:8080/"
        },
        "id": "iIQw2jjqgO0Q",
        "outputId": "16a79252-58a3-4f64-8eee-aab109b9bdc7"
      },
      "execution_count": 18,
      "outputs": [
        {
          "output_type": "stream",
          "name": "stdout",
          "text": [
            "dp[3] = dp[2] + dp[1] + dp[0] = 4 + 2 + 1 = 7\n",
            "dp[4] = dp[3] + dp[2] + dp[1] = 7 + 4 + 2 = 13\n",
            "dp[5] = dp[4] + dp[3] + dp[2] = 13 + 7 + 4 = 24\n",
            "24\n",
            "dp[3] = dp[2] + dp[1] + dp[0] = 4 + 2 + 1 = 7\n",
            "dp[4] = dp[3] + dp[2] + dp[1] = 7 + 4 + 2 = 13\n",
            "dp[5] = dp[4] + dp[3] + dp[2] = 13 + 7 + 4 = 24\n",
            "dp[6] = dp[5] + dp[4] + dp[3] = 24 + 13 + 7 = 44\n",
            "dp[7] = dp[6] + dp[5] + dp[4] = 44 + 24 + 13 = 81\n",
            "dp[8] = dp[7] + dp[6] + dp[5] = 81 + 44 + 24 = 149\n",
            "dp[9] = dp[8] + dp[7] + dp[6] = 149 + 81 + 44 = 274\n",
            "dp[10] = dp[9] + dp[8] + dp[7] = 274 + 149 + 81 = 504\n",
            "504\n"
          ]
        }
      ]
    },
    {
      "cell_type": "markdown",
      "source": [
        "## Наибольшая непрерывная возрастающая последовательность\n",
        "\n",
        "Дан массив не отсортированных чисел. Необходимо найти максимально длинную непрерывную возрастающую последовательность и вернуть ее длину\n",
        "- `[3, 2, 8, 9, 5, 10]` - ответ `3` так как максимально длинная последовательность\n",
        "`2, 8, 9`\n",
        "- `[1, 2, 7, 9, 0, 10]` - ответ `4` так как максимально длинная последовательность\n",
        "`1, 2, 7, 9`\n",
        "-  `[8, 8, 8, 8]` - ответ `1`\n"
      ],
      "metadata": {
        "id": "OfCAI6pRmJ4J"
      }
    },
    {
      "cell_type": "code",
      "source": [
        "def find_lis(nums):\n",
        "    if len(nums) == 0:\n",
        "        return 0\n",
        "    if len(nums) == 1:\n",
        "        return 1\n",
        "    dp = [1] * len(nums)\n",
        "    for i in range(1, len(nums)):\n",
        "        if nums[i-1] < nums[i]:\n",
        "            dp[i] = dp[i-1] + 1\n",
        "    return max(dp)\n",
        "\n",
        "print(find_lis([3, 2, 8, 9, 5, 10]))\n",
        "print(find_lis([1, 2, 7, 9, 0, 10]))"
      ],
      "metadata": {
        "colab": {
          "base_uri": "https://localhost:8080/"
        },
        "id": "AWtkM0kUlp5h",
        "outputId": "b118ea8a-1960-4ff0-d5d6-2920c04c174c"
      },
      "execution_count": 20,
      "outputs": [
        {
          "output_type": "stream",
          "name": "stdout",
          "text": [
            "3\n",
            "4\n"
          ]
        }
      ]
    },
    {
      "cell_type": "markdown",
      "source": [
        "## Треугольник Паскаля\n",
        "Дано некоторое число n. Необходимо создать треугольник Паскаля состоящего из n строк\n",
        "\n",
        "Пробуем найти соотношение между ячейками\n",
        "`pascal_triangle[row - 1][col - 1] + pascal_triangle[row - 1][col] `\n"
      ],
      "metadata": {
        "id": "_Bfov7MHsOzh"
      }
    },
    {
      "cell_type": "code",
      "source": [
        "def pascal_triangle(row, col):\n",
        "    if col==0 or col==row:\n",
        "        return 1\n",
        "    else:\n",
        "        return pascal_triangle(row-1, col-1) + pascal_triangle(row-1, col)\n",
        "\n",
        "n = 6\n",
        "\n",
        "dp = []\n",
        "\n",
        "for row in range(n):\n",
        "    current_row = []\n",
        "    for col in range(row + 1):\n",
        "        current_row.append(pascal_triangle(row, col))\n",
        "    dp.append(current_row)\n",
        "\n",
        "print(dp)\n",
        "print('-'*20)\n",
        "for row in dp:\n",
        "    print(row)"
      ],
      "metadata": {
        "colab": {
          "base_uri": "https://localhost:8080/"
        },
        "id": "3s0LjNcjsV5T",
        "outputId": "774ea50c-1e99-40c6-f100-fb9006db4fb7"
      },
      "execution_count": 28,
      "outputs": [
        {
          "output_type": "stream",
          "name": "stdout",
          "text": [
            "[[1], [1, 1], [1, 2, 1], [1, 3, 3, 1], [1, 4, 6, 4, 1], [1, 5, 10, 10, 5, 1]]\n",
            "--------------------\n",
            "[1]\n",
            "[1, 1]\n",
            "[1, 2, 1]\n",
            "[1, 3, 3, 1]\n",
            "[1, 4, 6, 4, 1]\n",
            "[1, 5, 10, 10, 5, 1]\n"
          ]
        }
      ]
    },
    {
      "cell_type": "markdown",
      "source": [
        "## Треугольник Паскаля Итерационный подход\n",
        "\n",
        "- Проинициализируем двумерный массив и заполним его единицами\n",
        "- Создадим цикл для строк\n",
        "- Для каждой строки будем в цикле по столбцам менять ячейки\n"
      ],
      "metadata": {
        "id": "1tthfRlbumnf"
      }
    },
    {
      "cell_type": "code",
      "source": [
        "n = 6\n",
        "\n",
        "dp = []\n",
        "for i in range(1, n+1):\n",
        "    tmp = []\n",
        "    for j in range(1, i+1):\n",
        "        tmp.append(1)\n",
        "    dp.append(tmp)\n",
        "\n",
        "# dp\n",
        "\n",
        "for row in range(1, n):\n",
        "    for col in range(1, row):\n",
        "        dp[row][col] = dp[row-1][col-1] + dp[row-1][col]\n",
        "\n",
        "print(dp)\n",
        "print('-'*20)\n",
        "for row in dp:\n",
        "    print(row)"
      ],
      "metadata": {
        "colab": {
          "base_uri": "https://localhost:8080/"
        },
        "id": "PcMAsePZuCBP",
        "outputId": "c27b6177-603d-4b14-fd15-b503a65af030"
      },
      "execution_count": 30,
      "outputs": [
        {
          "output_type": "stream",
          "name": "stdout",
          "text": [
            "[[1], [1, 1], [1, 2, 1], [1, 3, 3, 1], [1, 4, 6, 4, 1], [1, 5, 10, 10, 5, 1]]\n",
            "--------------------\n",
            "[1]\n",
            "[1, 1]\n",
            "[1, 2, 1]\n",
            "[1, 3, 3, 1]\n",
            "[1, 4, 6, 4, 1]\n",
            "[1, 5, 10, 10, 5, 1]\n"
          ]
        }
      ]
    },
    {
      "cell_type": "markdown",
      "source": [
        "## Максимальная выгода\n",
        "\n",
        "Дан массив целых чисел. Каждое число - стоимость акции. Нам нужно купить максимально дешево, а продать максимально дорого. Сделать это надо за O(n)\n",
        "\n",
        "`[8, 9, 3, 7, 4, 16, 12]` - максимальная выгода `13`. Купили за `3`, продали за `16`\n",
        "\n",
        "`[1, 2, 3, 4, 5, 6, 7]` - максимальная выгода `6`. Купили за `1`, продали за `7`\n",
        "\n",
        "`[8, 7, 6, 5, 4, 3, 2]` - максимальная выгода `0`.\n"
      ],
      "metadata": {
        "id": "RIeh7HMtvyDn"
      }
    },
    {
      "cell_type": "code",
      "source": [
        "def max_profit(prices):\n",
        "    profit = 0\n",
        "    min_price = prices[0]\n",
        "    for i in range(1, len(prices)):\n",
        "        if prices[i] < min_price:\n",
        "            min_price = prices[i]\n",
        "        elif prices[i] - min_price > profit:\n",
        "            profit = prices[i] - min_price\n",
        "    return profit\n",
        "\n",
        "\n",
        "max_profit([8, 9, 3, 7, 4, 16, 12])"
      ],
      "metadata": {
        "colab": {
          "base_uri": "https://localhost:8080/"
        },
        "id": "qdXvAgDZxPUG",
        "outputId": "63b3a96c-afd1-405c-9caa-fa9b3463cb25"
      },
      "execution_count": 31,
      "outputs": [
        {
          "output_type": "execute_result",
          "data": {
            "text/plain": [
              "13"
            ]
          },
          "metadata": {},
          "execution_count": 31
        }
      ]
    },
    {
      "cell_type": "markdown",
      "source": [
        "## Размен монет\n",
        "\n",
        "Дан массив целых чисел `coin`, где каждое число - номинал монеты и некоторое число amount - сумма монет из массива. Необходимо найти наименьшее количество монет, которое в сумме дало бы `amount`. Если такой комбинации нет - возвращаем `-1`\n",
        "\n",
        "```\n",
        "coins = [1,2,5], amount = 11\n",
        "Результат: 3\n",
        "Решение: 11 = 5 + 5 + 1\n",
        "\n",
        "coins = [2], amount = 3\n",
        "Результат: -1\n",
        "```"
      ],
      "metadata": {
        "id": "QHtTq_dnxYKF"
      }
    },
    {
      "cell_type": "code",
      "source": [
        "def coin_change(coins, amount):\n",
        "    if amount == 0:\n",
        "        return 0\n",
        "    if amount < 0:\n",
        "        return -1\n",
        "\n",
        "    min_coins = amount + 1\n",
        "\n",
        "    for coin in coins:\n",
        "        res = coin_change(coins, amount - coin)\n",
        "        if res >= 0 and res < min_coins:\n",
        "            min_coins = res + 1 # добавляем текущую монету (+1)\n",
        "\n",
        "    if min_coins == amount + 1:\n",
        "        return -1\n",
        "    else:\n",
        "        return min_coins\n",
        "\n",
        "\n",
        "coins = [1, 2, 5]\n",
        "amount = 11\n",
        "coin_change(coins, amount)"
      ],
      "metadata": {
        "colab": {
          "base_uri": "https://localhost:8080/"
        },
        "id": "OD71KqzsxUMT",
        "outputId": "8eca4186-ebf6-43d7-eb65-4d6dfe7cccf8"
      },
      "execution_count": 43,
      "outputs": [
        {
          "output_type": "execute_result",
          "data": {
            "text/plain": [
              "3"
            ]
          },
          "metadata": {},
          "execution_count": 43
        }
      ]
    },
    {
      "cell_type": "code",
      "source": [
        "def coin_change(coins, amount):\n",
        "    dp = [float('inf')] * (amount + 1) # создаем массив dp длиной amount + 1 и заполняем бесконечностями\n",
        "    dp[0] = 0\n",
        "\n",
        "    for i in range(1, amount+1): # все суммы от 1 до amount\n",
        "        for coin in coins:\n",
        "            if coin <= i:\n",
        "                # print(f\"  Монета {coin} подходит: dp[{i}] обновляется с {dp[i]} на {dp[i-coin] + 1}\")\n",
        "                dp[i] = min(dp[i], dp[i-coin]+1)\n",
        "    if dp[amount] == float('inf'):\n",
        "        return -1\n",
        "    return dp[amount]\n",
        "\n",
        "coins = [1, 2, 5]\n",
        "amount = 11\n",
        "coin_change(coins, amount)"
      ],
      "metadata": {
        "colab": {
          "base_uri": "https://localhost:8080/"
        },
        "id": "WDpiwEWezbCZ",
        "outputId": "c7dbd269-2b71-41d2-bae4-4b54f03a95be"
      },
      "execution_count": 52,
      "outputs": [
        {
          "output_type": "execute_result",
          "data": {
            "text/plain": [
              "3"
            ]
          },
          "metadata": {},
          "execution_count": 52
        }
      ]
    },
    {
      "cell_type": "markdown",
      "source": [
        "## Максимальный палиндром в строке\n",
        "\n",
        "Дана строка s. Необходимо найти максимальную подстроку, которая является палиндромом\n"
      ],
      "metadata": {
        "id": "o0CW00aI8MEP"
      }
    },
    {
      "cell_type": "code",
      "source": [
        "def longest_palindrome(s):\n",
        "    current_max_left = 0\n",
        "    current_max_right = 0\n",
        "\n",
        "    def expand_around_center(left, right):\n",
        "        nonlocal current_max_left, current_max_right\n",
        "        # print(f\"Пробуем центр: ({left}, {right})\")\n",
        "        while left >= 0 and right < len(s) and s[left] == s[right]:\n",
        "            # print(f\"  Расширяемся: s[{left}] == s[{right}] ({s[left]} == {s[right]})\")\n",
        "            # если текущая длина палиндрома больше максимальной\n",
        "            if (right - left) > (current_max_right - current_max_left):\n",
        "                current_max_left = left\n",
        "                current_max_right = right\n",
        "                # print(f\"    Новый палиндром: s[{current_max_left}:{current_max_right+1}] -> {s[current_max_left:current_max_right+1]}\")\n",
        "            left -= 1\n",
        "            right += 1\n",
        "\n",
        "    for i in range(len(s)):\n",
        "        expand_around_center(i, i) # проверка палиндромов нечетной длины\n",
        "        expand_around_center(i, i + 1) # проверка палиндромов четной длины\n",
        "\n",
        "    return s[current_max_left : current_max_right + 1]\n",
        "\n",
        "\n",
        "s = \"babad\"\n",
        "longest_palindrome(s)"
      ],
      "metadata": {
        "colab": {
          "base_uri": "https://localhost:8080/",
          "height": 36
        },
        "id": "rUVSpUe18LHK",
        "outputId": "8054c131-f1d9-415b-d237-880c524eb333"
      },
      "execution_count": 61,
      "outputs": [
        {
          "output_type": "execute_result",
          "data": {
            "text/plain": [
              "'bab'"
            ],
            "application/vnd.google.colaboratory.intrinsic+json": {
              "type": "string"
            }
          },
          "metadata": {},
          "execution_count": 61
        }
      ]
    },
    {
      "cell_type": "code",
      "source": [
        "def longest_palindrome(s):\n",
        "    n = len(s)\n",
        "    if n == 0:\n",
        "        return -1\n",
        "\n",
        "    dp = [[False] * n for _ in range(n)]\n",
        "    start = 0\n",
        "    max_length = 1\n",
        "\n",
        "    for i in range(n):\n",
        "        dp[i][i] = True\n",
        "\n",
        "    # проверка подстрок длиной 2\n",
        "    for i in range(n - 1):\n",
        "        if s[i] == s[i + 1]:\n",
        "            dp[i][i + 1] = True\n",
        "            start = i\n",
        "            max_length = 2\n",
        "\n",
        "    # проверка подстрок длиной 3 и более\n",
        "    for length in range(3, n + 1): # длина подстроки\n",
        "        for i in range(n - length + 1):\n",
        "            j = i + length - 1  # конец подстроки\n",
        "            if s[i] == s[j] and dp[i + 1][j - 1]:\n",
        "                dp[i][j] = True\n",
        "                if length > max_length:\n",
        "                    start = i\n",
        "                    max_length = length\n",
        "\n",
        "    return s[start:start + max_length]\n",
        "\n",
        "s = \"babad\"\n",
        "longest_palindrome(s)"
      ],
      "metadata": {
        "colab": {
          "base_uri": "https://localhost:8080/",
          "height": 36
        },
        "id": "RXGGB5kc--EU",
        "outputId": "1e9ef624-18f4-4789-886c-63854fd7fe8f"
      },
      "execution_count": 62,
      "outputs": [
        {
          "output_type": "execute_result",
          "data": {
            "text/plain": [
              "'bab'"
            ],
            "application/vnd.google.colaboratory.intrinsic+json": {
              "type": "string"
            }
          },
          "metadata": {},
          "execution_count": 62
        }
      ]
    }
  ]
}