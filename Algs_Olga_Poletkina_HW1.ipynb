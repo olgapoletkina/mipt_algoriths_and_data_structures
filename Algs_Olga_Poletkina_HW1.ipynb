{
  "nbformat": 4,
  "nbformat_minor": 0,
  "metadata": {
    "colab": {
      "provenance": []
    },
    "kernelspec": {
      "name": "python3",
      "display_name": "Python 3"
    },
    "language_info": {
      "name": "python"
    }
  },
  "cells": [
    {
      "cell_type": "code",
      "source": [
        "import numpy as np\n",
        "import pandas as pd"
      ],
      "metadata": {
        "id": "fvsTVww-DCVq"
      },
      "execution_count": 1,
      "outputs": []
    },
    {
      "cell_type": "markdown",
      "source": [
        "## 1. All numbers sum"
      ],
      "metadata": {
        "id": "k6XCr1RLSNml"
      }
    },
    {
      "cell_type": "markdown",
      "source": [
        "$$ S = 1+2+...+(n-2)+(n-1)+n $$\n",
        "$$ S reverced = n+(n-1)+(n-2)+...+2+1 $$\n",
        "$$ 2S = (n+1)+(2+(n-1))+(3+(n-2))+... ---> (n+1)*n $$\n",
        "$$ S = (n+1)*n/2 $$\n",
        "\n",
        "$$ O(1) $$"
      ],
      "metadata": {
        "id": "8DhMbe80BHT2"
      }
    },
    {
      "cell_type": "code",
      "execution_count": 2,
      "metadata": {
        "id": "mp-VELPE3Gu4",
        "colab": {
          "base_uri": "https://localhost:8080/"
        },
        "outputId": "c800302f-ec37-426f-e1a5-f69dc35cd455"
      },
      "outputs": [
        {
          "output_type": "execute_result",
          "data": {
            "text/plain": [
              "500000500000.0"
            ]
          },
          "metadata": {},
          "execution_count": 2
        }
      ],
      "source": [
        "n = 1000000\n",
        "S = (n+1)*n/2\n",
        "S"
      ]
    },
    {
      "cell_type": "markdown",
      "source": [
        "## 2. Two sum\n",
        "\n",
        "Дан отсортированный по возрастанию\n",
        "массив целых чисел и некоторое число `target`\n",
        "Необходимо найти два числа в массиве,\n",
        "которые в сумме дают заданное значение\n",
        "`target`, и вернуть их индексы."
      ],
      "metadata": {
        "id": "0IM-AGQ0SU7Y"
      }
    },
    {
      "cell_type": "code",
      "source": [
        "def two_sum_sorted_list(nums, target):\n",
        "    left = 0\n",
        "    right = len(nums) - 1\n",
        "\n",
        "    while left < right:\n",
        "        summa = nums[left] + nums[right]\n",
        "        if summa == target:\n",
        "            return left, right\n",
        "        elif summa < target:\n",
        "            left += 1\n",
        "        else:\n",
        "            right -= 1\n",
        "    return 'No solutions'\n",
        "\n",
        "nums = [1, 2, 3, 4, 6, 8, 10]\n",
        "target = 10\n",
        "result = two_sum_sorted_list(nums, target)\n",
        "result"
      ],
      "metadata": {
        "colab": {
          "base_uri": "https://localhost:8080/"
        },
        "id": "K2DWK69ZDknP",
        "outputId": "41710915-3ef8-49d8-f902-4d36f10af46b"
      },
      "execution_count": 4,
      "outputs": [
        {
          "output_type": "execute_result",
          "data": {
            "text/plain": [
              "(1, 5)"
            ]
          },
          "metadata": {},
          "execution_count": 4
        }
      ]
    },
    {
      "cell_type": "markdown",
      "source": [
        "## 3. Reverse array\n",
        "\n",
        "Дан массив целых чисел.\n",
        "Необходимо развернуть его.\n",
        "Сделать это надо за линейное время без\n",
        "дополнительных аллокаций памяти"
      ],
      "metadata": {
        "id": "UL3f3jvTFWLB"
      }
    },
    {
      "cell_type": "code",
      "source": [
        "def reverse_array(arr):\n",
        "    left = 0\n",
        "    right = len(nums) - 1\n",
        "\n",
        "    while left < right:\n",
        "        arr[left], arr[right] = arr[right], arr[left]\n",
        "        left += 1\n",
        "        right -= 1\n",
        "    return arr\n",
        "\n",
        "nums = [1, 2, 3, 4, 6, 8, 10]\n",
        "target = 10\n",
        "result = reverse_array(nums)\n",
        "result"
      ],
      "metadata": {
        "colab": {
          "base_uri": "https://localhost:8080/"
        },
        "id": "TyRXHzlrFKb-",
        "outputId": "89432dd0-a5e4-42d6-b4be-3cc2c6a8fc0f"
      },
      "execution_count": 5,
      "outputs": [
        {
          "output_type": "execute_result",
          "data": {
            "text/plain": [
              "[10, 8, 6, 4, 3, 2, 1]"
            ]
          },
          "metadata": {},
          "execution_count": 5
        }
      ]
    },
    {
      "cell_type": "markdown",
      "source": [
        "## 4. Reverse part of array\n",
        "\n",
        "Дан массив целых чисел.\n",
        "Необходимо повернуть (сдвинуть) справа налево часть массива, которая\n",
        "указана вторым параметром.\n",
        "Сделать это надо за линейное время без дополнительных аллокаций\n",
        "\n",
        "Исходный массив: 1, 2, 3, 4, 5, 6, 7\n",
        "\n",
        "k = 3\n",
        "\n",
        "Результат: 5, 6, 7, 1, 2, 3, 4"
      ],
      "metadata": {
        "id": "PO8B_EEwGT-o"
      }
    },
    {
      "cell_type": "code",
      "source": [
        "def reverse_array(arr, left, right):\n",
        "\n",
        "    while left < right:\n",
        "        arr[left], arr[right] = arr[right], arr[left]\n",
        "        left += 1\n",
        "        right -= 1\n",
        "    return arr\n",
        "\n",
        "def reverse_array_k(arr, k):\n",
        "    n = len(arr)\n",
        "    k = k % n # Омтаток от деления -> 10 % 7 = 3\n",
        "\n",
        "    reverse_array(arr, 0, n - k - 1) # Переворачиваем первые n-k = 4 элемента [4, 3, 2, 1, 5, 6, 7]\n",
        "    reverse_array(arr, n - k, n - 1) # Переворачиваем последние k = 3 элемента [4, 3, 2, 1, 7, 6, 5]\n",
        "    reverse_array(arr, 0, n - 1) # Переворачиваем весь массив [5, 6, 7, 1, 2, 3, 4]\n",
        "\n",
        "    return arr\n",
        "\n",
        "nums = [1, 2, 3, 4, 5, 6, 7]\n",
        "k = 3\n",
        "result = reverse_array_k(nums, k)\n",
        "result"
      ],
      "metadata": {
        "colab": {
          "base_uri": "https://localhost:8080/"
        },
        "id": "MUobzDYVGRQt",
        "outputId": "d2d65251-c858-4ecf-a07b-56668e605e70"
      },
      "execution_count": 19,
      "outputs": [
        {
          "output_type": "execute_result",
          "data": {
            "text/plain": [
              "[5, 6, 7, 1, 2, 3, 4]"
            ]
          },
          "metadata": {},
          "execution_count": 19
        }
      ]
    },
    {
      "cell_type": "markdown",
      "source": [
        "## 5. Merge two sorted arrays\n",
        "\n",
        "Дано два отсортированных массива. Необходимо\n",
        "написать функцию которая объединит эти два массива\n",
        "в один отсортированный.\n",
        "\n",
        "$$ O(n + m) $$"
      ],
      "metadata": {
        "id": "MhMKMj9bLL7q"
      }
    },
    {
      "cell_type": "code",
      "source": [
        "def merge_sorted_arrays(arr1, arr2):\n",
        "    merged_arr = []\n",
        "    i = 0\n",
        "    j = 0\n",
        "\n",
        "    while i < len(arr1) and j < len(arr2):\n",
        "        if arr1[i] < arr2[j]:\n",
        "            merged_arr.append(arr1[i])\n",
        "            i += 1\n",
        "        else:\n",
        "            merged_arr.append(arr2[j])\n",
        "            j += 1\n",
        "    merged_arr.extend(arr1[i:])\n",
        "    merged_arr.extend(arr2[j:])\n",
        "\n",
        "    return merged_arr\n",
        "\n",
        "arr1 = [1, 3, 6, 10, 25]\n",
        "arr2 = [1, 2, 5, 8]\n",
        "\n",
        "result = merge_sorted_arrays(arr1, arr2)\n",
        "result"
      ],
      "metadata": {
        "colab": {
          "base_uri": "https://localhost:8080/"
        },
        "id": "OkXCSSK5Hddy",
        "outputId": "ce0cc5c4-19d1-4286-9a61-5e7a3886f03b"
      },
      "execution_count": 22,
      "outputs": [
        {
          "output_type": "execute_result",
          "data": {
            "text/plain": [
              "[1, 1, 2, 3, 5, 6, 8, 10, 25]"
            ]
          },
          "metadata": {},
          "execution_count": 22
        }
      ]
    },
    {
      "cell_type": "markdown",
      "source": [
        "## 6. Merge two sorted arrays. No additional allocations.\n",
        "\n",
        "Дано два отсортированных массива. Необходимо\n",
        "написать функцию которая объединит эти два массива\n",
        "в один отсортированный.\n",
        "\n",
        "Первый массив имеет размер, равный\n",
        "результирующиму массиву, значения в конце равны\n",
        "нулям. Мы не должны создавать третий массив.\n",
        "\n",
        "https://leetcode.com/problems/merge-sorted-array/description/"
      ],
      "metadata": {
        "id": "pUXC9tyENhof"
      }
    },
    {
      "cell_type": "code",
      "source": [
        "def merge_sorted_arrays_with_zeros(arr1, arr2):\n",
        "\n",
        "    pointer1 = len(arr1) - len(arr2) - 1\n",
        "    pointer2 = len(arr2) - 1\n",
        "    pointer3 = len(arr1) - 1\n",
        "\n",
        "    while pointer2 >= 0:\n",
        "        if pointer1 >= 0 and arr1[pointer1] > arr2[pointer2]:\n",
        "            arr1[pointer3] = arr1[pointer1]\n",
        "            pointer1 -= 1\n",
        "        else:\n",
        "            arr1[pointer3] = arr2[pointer2]\n",
        "            pointer2 -= 1\n",
        "        pointer3 -= 1\n",
        "\n",
        "    return arr1\n",
        "\n",
        "arr1 = [1, 3, 6, 10, 0, 0, 0, 0]\n",
        "arr2 = [1, 2, 5, 8]\n",
        "\n",
        "result = merge_sorted_arrays_with_zeros(arr1, arr2)\n",
        "result"
      ],
      "metadata": {
        "colab": {
          "base_uri": "https://localhost:8080/"
        },
        "id": "FbquqDHtM4z2",
        "outputId": "7378691f-1cc7-469b-cbd7-be73cd7bf0af"
      },
      "execution_count": 24,
      "outputs": [
        {
          "output_type": "execute_result",
          "data": {
            "text/plain": [
              "[1, 1, 2, 3, 5, 6, 8, 10]"
            ]
          },
          "metadata": {},
          "execution_count": 24
        }
      ]
    },
    {
      "cell_type": "markdown",
      "source": [
        "## 7. Sorting an array of 0 and 1\n",
        "\n",
        "Дан массив, содержащий только 0 и 1. Напишите функцию,\n",
        "которая сортирует его так, чтобы все нули оказались в\n",
        "начале, а все единички - в конце. Решение должно быть\n",
        "`in-place`."
      ],
      "metadata": {
        "id": "GB2lY92qSviO"
      }
    },
    {
      "cell_type": "code",
      "source": [
        "def sort_array_of_0_and_1(arr):\n",
        "    left = 0\n",
        "    right = len(arr) - 1\n",
        "\n",
        "    while left < right:\n",
        "        if arr[left] == 0: # если текущий элемент слева равен 0, двигаем левый указатель вправо\n",
        "            left += 1\n",
        "        elif arr[right] == 1:  # если текущий элемент справа равен 1, двигаем правый указатель влево\n",
        "            right -= 1\n",
        "        else:\n",
        "            arr[left], arr[right] = arr[right], arr[left] # если arr[left] == 1 и arr[right] == 0, меняем их местами, двигаем левый указатель вправо и правый указатель влево\n",
        "            left += 1\n",
        "            right -= 1\n",
        "\n",
        "    return arr\n",
        "\n",
        "arr = [0, 1, 0, 1, 0, 1, 0, 0]\n",
        "result = sort_array_of_0_and_1(arr)\n",
        "result"
      ],
      "metadata": {
        "colab": {
          "base_uri": "https://localhost:8080/"
        },
        "id": "yyPmgx-4S7MX",
        "outputId": "dc3ad6f9-97c2-4647-d6fa-3f063ef996ac"
      },
      "execution_count": 28,
      "outputs": [
        {
          "output_type": "execute_result",
          "data": {
            "text/plain": [
              "[0, 0, 0, 0, 0, 1, 1, 1]"
            ]
          },
          "metadata": {},
          "execution_count": 28
        }
      ]
    },
    {
      "cell_type": "markdown",
      "source": [
        "## 8. The Netherlands flag\n",
        "\n",
        "Дан массив состоящий из нулей, единиц и двоек.\n",
        "Необходимо его отсортировать за линейное время.\n",
        "\n",
        "https://leetcode.com/problems/sort-colors/description/\n",
        "\n",
        "- три указателя!\n",
        "- low - указывает на позицию, где должен находиться следующий 0.\n",
        "- mid - текущий элемент, который мы проверяем.\n",
        "- high - указывает на позицию, где должен находиться следующий 2\n",
        "![image.png](data:image/png;base64,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)\n",
        "- если значение под индексом m равно 2, то меняем его со значением под индексом h\n",
        "- `arr[m] == 2` → Меняем `arr[m]` и `arr[h]` (2 ↔ 0)\n",
        "- уменьшаем `high`\n",
        "- если текущий элемент 0, меняем его с элементом на позиции\n",
        "low\n",
        "- arr[m] == 0 → Меняем arr[m] и arr[l] (0 ↔ 0)\n",
        "- увеличиваем `low` и `mid`\n",
        "- если значение под индексом m равно 1, то просто\n",
        "инкрементируем m\n",
        "- arr[m] == 1 → ничего не меняем\n",
        "- m++"
      ],
      "metadata": {
        "id": "SQ-sd5FJUHmS"
      }
    },
    {
      "cell_type": "code",
      "source": [
        "def sort_flag_colors(arr):\n",
        "    low = 0\n",
        "    mid = 0\n",
        "    high = len(arr) - 1\n",
        "    print(f\"Исходный массив: {arr}\")\n",
        "    print(f\"{'low':<5} {'mid':<5} {'high':<5} {'arr'}\")\n",
        "\n",
        "    while mid <= high:\n",
        "        print(f\"{low:<5} {mid:<5} {high:<5} {arr}\")\n",
        "        if arr[mid] == 0:\n",
        "            arr[low], arr[mid] = arr[mid], arr[low]\n",
        "            low += 1\n",
        "            mid += 1\n",
        "        elif arr[mid] == 1:\n",
        "            mid += 1\n",
        "        else:\n",
        "            arr[mid], arr[high] = arr[high], arr[mid]\n",
        "            high -= 1\n",
        "\n",
        "    return arr\n",
        "\n",
        "arr = [1, 0, 2, 2, 1, 0]\n",
        "result = sort_flag_colors(arr)\n",
        "print(result)"
      ],
      "metadata": {
        "colab": {
          "base_uri": "https://localhost:8080/"
        },
        "id": "PvY7VqlnScy3",
        "outputId": "a61bd9fb-ae2e-435b-d3d7-c83095d3b346"
      },
      "execution_count": 36,
      "outputs": [
        {
          "output_type": "stream",
          "name": "stdout",
          "text": [
            "Исходный массив: [1, 0, 2, 2, 1, 0]\n",
            "low   mid   high  arr\n",
            "0     0     5     [1, 0, 2, 2, 1, 0]\n",
            "0     1     5     [1, 0, 2, 2, 1, 0]\n",
            "1     2     5     [0, 1, 2, 2, 1, 0]\n",
            "1     2     4     [0, 1, 0, 2, 1, 2]\n",
            "2     3     4     [0, 0, 1, 2, 1, 2]\n",
            "2     3     3     [0, 0, 1, 1, 2, 2]\n",
            "[0, 0, 1, 1, 2, 2]\n"
          ]
        }
      ]
    },
    {
      "cell_type": "markdown",
      "source": [
        "## 9. Move forward even numbers\n",
        "\n",
        "Дан не отсортированный массив целых чисел. Необходимо перенести в начало\n",
        "массива все четные числа, сохраняя их очередность. То есть если `8` стояла после `2`,\n",
        "то после переноса в начало, он по-прежнему должна стоять после `2`\n",
        "- Пример ввода: `[3, 2, 4, 1, 11, 8, 9]`\n",
        "- Пример вывода: `2 4 8 1 11 3 9`"
      ],
      "metadata": {
        "id": "wLFBdyrzU41P"
      }
    },
    {
      "cell_type": "code",
      "source": [
        "def even_first(arr):\n",
        "    even_i = 0\n",
        "\n",
        "    for i in range(len(arr)):\n",
        "        if arr[i] % 2 == 0:\n",
        "            arr[i], arr[even_i] = arr[even_i], arr[i]\n",
        "            even_i += 1\n",
        "    return arr\n",
        "\n",
        "arr = [1, 2, 3, 4, 5, 6, 7, 8, 9, 10]\n",
        "result = even_first(arr)\n",
        "print(result)"
      ],
      "metadata": {
        "colab": {
          "base_uri": "https://localhost:8080/"
        },
        "id": "3vTMfhteaaDL",
        "outputId": "d7e0deab-740a-4cb9-c318-c7a32cfbcab3"
      },
      "execution_count": 40,
      "outputs": [
        {
          "output_type": "stream",
          "name": "stdout",
          "text": [
            "[2, 4, 6, 8, 10, 3, 7, 1, 9, 5]\n"
          ]
        }
      ]
    },
    {
      "cell_type": "markdown",
      "source": [
        "## 10. Zeros at the end\n",
        "\n",
        "В школе прошел экзамен по математике.\n",
        "Несколько человек списали решения и были\n",
        "замечены. Этим школьникам поставил `0`\n",
        "баллов. Задача: есть массив с оценками,\n",
        "среди которых есть `0`. Необходимо все\n",
        "оценки, равные нулю перенести в конец\n",
        "массива, чтобы все такие школьники\n",
        "оказались в конце списка.\n",
        "```\n",
        "Пример ввода: [0, 0, 1, 0, 3, 12]\n",
        "Пример вывода: [1, 3, 12, 0, 0, 0]\n",
        "```"
      ],
      "metadata": {
        "id": "1ENhmt9CcFeh"
      }
    },
    {
      "cell_type": "code",
      "source": [
        "def move_zeros_to_end(arr):\n",
        "    non_zero_i = 0\n",
        "\n",
        "    print(f\"Исходный массив: {arr}\")\n",
        "    print(f\"{'i':<5} {'non_zero_i':<10} {'arr[i]':<5} {'Действие':<30} {'Новый массив'}\")\n",
        "\n",
        "    for i in range(len(arr)):\n",
        "        if arr[i] != 0:\n",
        "            arr[non_zero_i], arr[i] = arr[i], arr[non_zero_i]\n",
        "            print(f\"{i:<5} {non_zero_i:<10} {arr[i]:<5} {'Меняем arr[non_zero_i] и arr[i]':<30} {arr}\")\n",
        "            non_zero_i += 1\n",
        "        else:\n",
        "            print(f\"{i:<5} {non_zero_i:<10} {arr[i]:<5} {'Пропускаем':<30} {arr}\")\n",
        "    return arr\n",
        "\n",
        "arr = [0, 0, 1, 0, 3, 12]\n",
        "result = move_zeros_to_end(arr)\n",
        "result"
      ],
      "metadata": {
        "colab": {
          "base_uri": "https://localhost:8080/"
        },
        "id": "c0esiTxLcfP5",
        "outputId": "93fc6a56-d17f-42e9-dd46-c71b9a16ecb0"
      },
      "execution_count": 43,
      "outputs": [
        {
          "output_type": "stream",
          "name": "stdout",
          "text": [
            "Исходный массив: [0, 0, 1, 0, 3, 12]\n",
            "i     non_zero_i arr[i] Действие                       Новый массив\n",
            "0     0          0     Пропускаем                     [0, 0, 1, 0, 3, 12]\n",
            "1     0          0     Пропускаем                     [0, 0, 1, 0, 3, 12]\n",
            "2     0          0     Меняем arr[non_zero_i] и arr[i] [1, 0, 0, 0, 3, 12]\n",
            "3     1          0     Пропускаем                     [1, 0, 0, 0, 3, 12]\n",
            "4     1          0     Меняем arr[non_zero_i] и arr[i] [1, 3, 0, 0, 0, 12]\n",
            "5     2          0     Меняем arr[non_zero_i] и arr[i] [1, 3, 12, 0, 0, 0]\n"
          ]
        },
        {
          "output_type": "execute_result",
          "data": {
            "text/plain": [
              "[1, 3, 12, 0, 0, 0]"
            ]
          },
          "metadata": {},
          "execution_count": 43
        }
      ]
    },
    {
      "cell_type": "markdown",
      "source": [],
      "metadata": {
        "id": "H1Q1LgRGfi6K"
      }
    },
    {
      "cell_type": "code",
      "source": [],
      "metadata": {
        "id": "4L7XuxjnebXP"
      },
      "execution_count": null,
      "outputs": []
    }
  ]
}