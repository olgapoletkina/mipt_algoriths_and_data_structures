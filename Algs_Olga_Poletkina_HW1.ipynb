{
  "cells": [
    {
      "cell_type": "code",
      "execution_count": 1,
      "metadata": {
        "id": "fvsTVww-DCVq"
      },
      "outputs": [],
      "source": [
        "import numpy as np\n",
        "import pandas as pd"
      ]
    },
    {
      "cell_type": "markdown",
      "metadata": {
        "id": "k6XCr1RLSNml"
      },
      "source": [
        "## 1. All numbers sum"
      ]
    },
    {
      "cell_type": "markdown",
      "metadata": {
        "id": "8DhMbe80BHT2"
      },
      "source": [
        "$$ S = 1+2+...+(n-2)+(n-1)+n $$\n",
        "$$ S reverced = n+(n-1)+(n-2)+...+2+1 $$\n",
        "$$ 2S = (n+1)+(2+(n-1))+(3+(n-2))+... ---> (n+1)*n $$\n",
        "$$ S = (n+1)*n/2 $$\n",
        "\n",
        "$$ O(1) $$"
      ]
    },
    {
      "cell_type": "code",
      "execution_count": 1,
      "metadata": {
        "colab": {
          "base_uri": "https://localhost:8080/"
        },
        "id": "mp-VELPE3Gu4",
        "outputId": "c800302f-ec37-426f-e1a5-f69dc35cd455"
      },
      "outputs": [
        {
          "data": {
            "text/plain": [
              "500000500000.0"
            ]
          },
          "execution_count": 1,
          "metadata": {},
          "output_type": "execute_result"
        }
      ],
      "source": [
        "n = 1000000\n",
        "S = (n+1)*n/2\n",
        "S"
      ]
    },
    {
      "cell_type": "markdown",
      "metadata": {
        "id": "0IM-AGQ0SU7Y"
      },
      "source": [
        "## 2. Two sum\n",
        "\n",
        "Дан отсортированный по возрастанию\n",
        "массив целых чисел и некоторое число `target`\n",
        "Необходимо найти два числа в массиве,\n",
        "которые в сумме дают заданное значение\n",
        "`target`, и вернуть их индексы."
      ]
    },
    {
      "cell_type": "code",
      "execution_count": 2,
      "metadata": {
        "colab": {
          "base_uri": "https://localhost:8080/"
        },
        "id": "K2DWK69ZDknP",
        "outputId": "41710915-3ef8-49d8-f902-4d36f10af46b"
      },
      "outputs": [
        {
          "data": {
            "text/plain": [
              "(1, 5)"
            ]
          },
          "execution_count": 2,
          "metadata": {},
          "output_type": "execute_result"
        }
      ],
      "source": [
        "def two_sum_sorted_list(nums, target):\n",
        "    left = 0\n",
        "    right = len(nums) - 1\n",
        "\n",
        "    while left < right:\n",
        "        summa = nums[left] + nums[right]\n",
        "        if summa == target:\n",
        "            return left, right\n",
        "        elif summa < target:\n",
        "            left += 1\n",
        "        else:\n",
        "            right -= 1\n",
        "    return 'No solutions'\n",
        "\n",
        "nums = [1, 2, 3, 4, 6, 8, 10]\n",
        "target = 10\n",
        "result = two_sum_sorted_list(nums, target)\n",
        "result"
      ]
    },
    {
      "cell_type": "markdown",
      "metadata": {
        "id": "UL3f3jvTFWLB"
      },
      "source": [
        "## 3. Reverse array\n",
        "\n",
        "Дан массив целых чисел.\n",
        "Необходимо развернуть его.\n",
        "Сделать это надо за линейное время без\n",
        "дополнительных аллокаций памяти"
      ]
    },
    {
      "cell_type": "code",
      "execution_count": 17,
      "metadata": {
        "colab": {
          "base_uri": "https://localhost:8080/"
        },
        "id": "TyRXHzlrFKb-",
        "outputId": "89432dd0-a5e4-42d6-b4be-3cc2c6a8fc0f"
      },
      "outputs": [
        {
          "data": {
            "text/plain": [
              "[10, 8, 6, 4, 3, 2, 1]"
            ]
          },
          "execution_count": 17,
          "metadata": {},
          "output_type": "execute_result"
        }
      ],
      "source": [
        "def reverse_array(arr):\n",
        "    left = 0\n",
        "    right = len(nums) - 1\n",
        "\n",
        "    while left < right:\n",
        "        arr[left], arr[right] = arr[right], arr[left]\n",
        "        left += 1\n",
        "        right -= 1\n",
        "    return arr\n",
        "\n",
        "nums = [1, 2, 3, 4, 6, 8, 10]\n",
        "target = 10\n",
        "result = reverse_array(nums)\n",
        "result"
      ]
    },
    {
      "cell_type": "markdown",
      "metadata": {
        "id": "PO8B_EEwGT-o"
      },
      "source": [
        "## 4. Reverse part of array\n",
        "\n",
        "Дан массив целых чисел.\n",
        "Необходимо повернуть (сдвинуть) справа налево часть массива, которая\n",
        "указана вторым параметром.\n",
        "Сделать это надо за линейное время без дополнительных аллокаций\n",
        "\n",
        "Исходный массив: 1, 2, 3, 4, 5, 6, 7\n",
        "\n",
        "k = 3\n",
        "\n",
        "Результат: 5, 6, 7, 1, 2, 3, 4\n",
        "\n",
        "- Переворачиваем первые n-k = 4 элемента [4, 3, 2, 1, 5, 6, 7]\n",
        "- Переворачиваем последние k = 3 элемента [4, 3, 2, 1, 7, 6, 5]\n",
        "- Переворачиваем весь массив [5, 6, 7, 1, 2, 3, 4]"
      ]
    },
    {
      "cell_type": "code",
      "execution_count": 14,
      "metadata": {
        "colab": {
          "base_uri": "https://localhost:8080/"
        },
        "id": "MUobzDYVGRQt",
        "outputId": "d2d65251-c858-4ecf-a07b-56668e605e70"
      },
      "outputs": [
        {
          "data": {
            "text/plain": [
              "[5, 6, 7, 1, 2, 3, 4]"
            ]
          },
          "execution_count": 14,
          "metadata": {},
          "output_type": "execute_result"
        }
      ],
      "source": [
        "def reverse_array(arr, left, right):\n",
        "\n",
        "    while left < right:\n",
        "        arr[left], arr[right] = arr[right], arr[left]\n",
        "        left += 1\n",
        "        right -= 1\n",
        "    return arr\n",
        "\n",
        "def reverse_array_k(arr, k):\n",
        "    n = len(arr)\n",
        "    k = k % n # Омтаток от деления -> 10 % 7 = 3\n",
        "\n",
        "    reverse_array(arr, 0, n - k - 1) \n",
        "    reverse_array(arr, n - k, n - 1) \n",
        "    reverse_array(arr, 0, n - 1) \n",
        "\n",
        "    return arr\n",
        "\n",
        "nums = [1, 2, 3, 4, 5, 6, 7]\n",
        "k = 3\n",
        "result = reverse_array_k(nums, k)\n",
        "result"
      ]
    },
    {
      "cell_type": "markdown",
      "metadata": {
        "id": "MhMKMj9bLL7q"
      },
      "source": [
        "## 5. Merge two sorted arrays\n",
        "\n",
        "Дано два отсортированных массива. Необходимо\n",
        "написать функцию которая объединит эти два массива\n",
        "в один отсортированный.\n",
        "\n",
        "$$ O(n + m) $$"
      ]
    },
    {
      "cell_type": "code",
      "execution_count": 5,
      "metadata": {
        "colab": {
          "base_uri": "https://localhost:8080/"
        },
        "id": "OkXCSSK5Hddy",
        "outputId": "ce0cc5c4-19d1-4286-9a61-5e7a3886f03b"
      },
      "outputs": [
        {
          "data": {
            "text/plain": [
              "[1, 1, 2, 3, 5, 6, 8, 10, 25]"
            ]
          },
          "execution_count": 5,
          "metadata": {},
          "output_type": "execute_result"
        }
      ],
      "source": [
        "def merge_sorted_arrays(arr1, arr2):\n",
        "    merged_arr = []\n",
        "    i = 0\n",
        "    j = 0\n",
        "\n",
        "    while i < len(arr1) and j < len(arr2):\n",
        "        if arr1[i] < arr2[j]:\n",
        "            merged_arr.append(arr1[i])\n",
        "            i += 1\n",
        "        else:\n",
        "            merged_arr.append(arr2[j])\n",
        "            j += 1\n",
        "    merged_arr.extend(arr1[i:])\n",
        "    merged_arr.extend(arr2[j:])\n",
        "\n",
        "    return merged_arr\n",
        "\n",
        "arr1 = [1, 3, 6, 10, 25]\n",
        "arr2 = [1, 2, 5, 8]\n",
        "\n",
        "result = merge_sorted_arrays(arr1, arr2)\n",
        "result"
      ]
    },
    {
      "cell_type": "markdown",
      "metadata": {
        "id": "pUXC9tyENhof"
      },
      "source": [
        "## 6. Merge two sorted arrays. No additional allocations.\n",
        "\n",
        "Дано два отсортированных массива. Необходимо\n",
        "написать функцию которая объединит эти два массива\n",
        "в один отсортированный.\n",
        "\n",
        "Первый массив имеет размер, равный\n",
        "результирующиму массиву, значения в конце равны\n",
        "нулям. Мы не должны создавать третий массив.\n",
        "\n",
        "https://leetcode.com/problems/merge-sorted-array/description/"
      ]
    },
    {
      "cell_type": "code",
      "execution_count": 6,
      "metadata": {
        "colab": {
          "base_uri": "https://localhost:8080/"
        },
        "id": "FbquqDHtM4z2",
        "outputId": "7378691f-1cc7-469b-cbd7-be73cd7bf0af"
      },
      "outputs": [
        {
          "data": {
            "text/plain": [
              "[1, 1, 2, 3, 5, 6, 8, 10]"
            ]
          },
          "execution_count": 6,
          "metadata": {},
          "output_type": "execute_result"
        }
      ],
      "source": [
        "def merge_sorted_arrays_with_zeros(arr1, arr2):\n",
        "\n",
        "    pointer1 = len(arr1) - len(arr2) - 1\n",
        "    pointer2 = len(arr2) - 1\n",
        "    pointer3 = len(arr1) - 1\n",
        "\n",
        "    while pointer2 >= 0:\n",
        "        if pointer1 >= 0 and arr1[pointer1] > arr2[pointer2]:\n",
        "            arr1[pointer3] = arr1[pointer1]\n",
        "            pointer1 -= 1\n",
        "        else:\n",
        "            arr1[pointer3] = arr2[pointer2]\n",
        "            pointer2 -= 1\n",
        "        pointer3 -= 1\n",
        "\n",
        "    return arr1\n",
        "\n",
        "arr1 = [1, 3, 6, 10, 0, 0, 0, 0]\n",
        "arr2 = [1, 2, 5, 8]\n",
        "\n",
        "result = merge_sorted_arrays_with_zeros(arr1, arr2)\n",
        "result"
      ]
    },
    {
      "cell_type": "markdown",
      "metadata": {
        "id": "GB2lY92qSviO"
      },
      "source": [
        "## 7. Sorting an array of 0 and 1\n",
        "\n",
        "Дан массив, содержащий только 0 и 1. Напишите функцию,\n",
        "которая сортирует его так, чтобы все нули оказались в\n",
        "начале, а все единички - в конце. Решение должно быть\n",
        "`in-place`."
      ]
    },
    {
      "cell_type": "code",
      "execution_count": 7,
      "metadata": {
        "colab": {
          "base_uri": "https://localhost:8080/"
        },
        "id": "yyPmgx-4S7MX",
        "outputId": "dc3ad6f9-97c2-4647-d6fa-3f063ef996ac"
      },
      "outputs": [
        {
          "data": {
            "text/plain": [
              "[0, 0, 0, 0, 0, 1, 1, 1]"
            ]
          },
          "execution_count": 7,
          "metadata": {},
          "output_type": "execute_result"
        }
      ],
      "source": [
        "def sort_array_of_0_and_1(arr):\n",
        "    left = 0\n",
        "    right = len(arr) - 1\n",
        "\n",
        "    while left < right:\n",
        "        if arr[left] == 0: # если текущий элемент слева равен 0, двигаем левый указатель вправо\n",
        "            left += 1\n",
        "        elif arr[right] == 1:  # если текущий элемент справа равен 1, двигаем правый указатель влево\n",
        "            right -= 1\n",
        "        else:\n",
        "            arr[left], arr[right] = arr[right], arr[left] # если arr[left] == 1 и arr[right] == 0, меняем их местами, двигаем левый указатель вправо и правый указатель влево\n",
        "            left += 1\n",
        "            right -= 1\n",
        "\n",
        "    return arr\n",
        "\n",
        "arr = [0, 1, 0, 1, 0, 1, 0, 0]\n",
        "result = sort_array_of_0_and_1(arr)\n",
        "result"
      ]
    },
    {
      "cell_type": "markdown",
      "metadata": {
        "id": "SQ-sd5FJUHmS"
      },
      "source": [
        "## 8. The Netherlands flag\n",
        "\n",
        "Дан массив состоящий из нулей, единиц и двоек.\n",
        "Необходимо его отсортировать за линейное время.\n",
        "\n",
        "https://leetcode.com/problems/sort-colors/description/\n",
        "\n",
        "- три указателя!\n",
        "- low - указывает на позицию, где должен находиться следующий 0.\n",
        "- mid - текущий элемент, который мы проверяем.\n",
        "- high - указывает на позицию, где должен находиться следующий 2\n",
        "- если значение под индексом m равно 2, то меняем его со значением под индексом h\n",
        "- `arr[m] == 2` → Меняем `arr[m]` и `arr[h]` (2 ↔ 0)\n",
        "- уменьшаем `high`\n",
        "- если текущий элемент 0, меняем его с элементом на позиции\n",
        "low\n",
        "- arr[m] == 0 → Меняем arr[m] и arr[l] (0 ↔ 0)\n",
        "- увеличиваем `low` и `mid`\n",
        "- если значение под индексом m равно 1, то просто\n",
        "инкрементируем m\n",
        "- arr[m] == 1 → ничего не меняем\n",
        "- m++"
      ]
    },
    {
      "cell_type": "code",
      "execution_count": 8,
      "metadata": {
        "colab": {
          "base_uri": "https://localhost:8080/"
        },
        "id": "PvY7VqlnScy3",
        "outputId": "a61bd9fb-ae2e-435b-d3d7-c83095d3b346"
      },
      "outputs": [
        {
          "name": "stdout",
          "output_type": "stream",
          "text": [
            "[0, 0, 1, 1, 2, 2]\n"
          ]
        }
      ],
      "source": [
        "def sort_flag_colors(arr):\n",
        "    low = 0\n",
        "    mid = 0\n",
        "    high = len(arr) - 1\n",
        "    # print(f\"Исходный массив: {arr}\")\n",
        "    # print(f\"{'low':<5} {'mid':<5} {'high':<5} {'arr'}\")\n",
        "\n",
        "    while mid <= high:\n",
        "        # print(f\"{low:<5} {mid:<5} {high:<5} {arr}\")\n",
        "        if arr[mid] == 0:\n",
        "            arr[low], arr[mid] = arr[mid], arr[low]\n",
        "            low += 1\n",
        "            mid += 1\n",
        "        elif arr[mid] == 1:\n",
        "            mid += 1\n",
        "        else:\n",
        "            arr[mid], arr[high] = arr[high], arr[mid]\n",
        "            high -= 1\n",
        "\n",
        "    return arr\n",
        "\n",
        "arr = [1, 0, 2, 2, 1, 0]\n",
        "result = sort_flag_colors(arr)\n",
        "print(result)"
      ]
    },
    {
      "cell_type": "markdown",
      "metadata": {
        "id": "wLFBdyrzU41P"
      },
      "source": [
        "## 9. Move forward even numbers\n",
        "\n",
        "Дан не отсортированный массив целых чисел. Необходимо перенести в начало\n",
        "массива все четные числа, сохраняя их очередность. То есть если `8` стояла после `2`,\n",
        "то после переноса в начало, он по-прежнему должна стоять после `2`\n",
        "- Пример ввода: `[3, 2, 4, 1, 11, 8, 9]`\n",
        "- Пример вывода: `2 4 8 1 11 3 9`"
      ]
    },
    {
      "cell_type": "code",
      "execution_count": 9,
      "metadata": {
        "colab": {
          "base_uri": "https://localhost:8080/"
        },
        "id": "3vTMfhteaaDL",
        "outputId": "d7e0deab-740a-4cb9-c318-c7a32cfbcab3"
      },
      "outputs": [
        {
          "name": "stdout",
          "output_type": "stream",
          "text": [
            "[2, 4, 6, 8, 10, 3, 7, 1, 9, 5]\n"
          ]
        }
      ],
      "source": [
        "def even_first(arr):\n",
        "    even_i = 0\n",
        "\n",
        "    for i in range(len(arr)):\n",
        "        if arr[i] % 2 == 0:\n",
        "            arr[i], arr[even_i] = arr[even_i], arr[i]\n",
        "            even_i += 1\n",
        "    return arr\n",
        "\n",
        "arr = [1, 2, 3, 4, 5, 6, 7, 8, 9, 10]\n",
        "result = even_first(arr)\n",
        "print(result)"
      ]
    },
    {
      "cell_type": "markdown",
      "metadata": {
        "id": "1ENhmt9CcFeh"
      },
      "source": [
        "## 10. Zeros at the end\n",
        "\n",
        "В школе прошел экзамен по математике.\n",
        "Несколько человек списали решения и были\n",
        "замечены. Этим школьникам поставил `0`\n",
        "баллов. Задача: есть массив с оценками,\n",
        "среди которых есть `0`. Необходимо все\n",
        "оценки, равные нулю перенести в конец\n",
        "массива, чтобы все такие школьники\n",
        "оказались в конце списка.\n",
        "```\n",
        "Пример ввода: [0, 0, 1, 0, 3, 12]\n",
        "Пример вывода: [1, 3, 12, 0, 0, 0]\n",
        "```"
      ]
    },
    {
      "cell_type": "code",
      "execution_count": 10,
      "metadata": {
        "colab": {
          "base_uri": "https://localhost:8080/"
        },
        "id": "c0esiTxLcfP5",
        "outputId": "93fc6a56-d17f-42e9-dd46-c71b9a16ecb0"
      },
      "outputs": [
        {
          "data": {
            "text/plain": [
              "[1, 3, 12, 0, 0, 0]"
            ]
          },
          "execution_count": 10,
          "metadata": {},
          "output_type": "execute_result"
        }
      ],
      "source": [
        "def move_zeros_to_end(arr):\n",
        "    non_zero_i = 0\n",
        "\n",
        "    # print(f\"Исходный массив: {arr}\")\n",
        "    # print(f\"{'i':<5} {'non_zero_i':<10} {'arr[i]':<5} {'Действие':<30} {'Новый массив'}\")\n",
        "\n",
        "    for i in range(len(arr)):\n",
        "        if arr[i] != 0:\n",
        "            arr[non_zero_i], arr[i] = arr[i], arr[non_zero_i]\n",
        "            # print(f\"{i:<5} {non_zero_i:<10} {arr[i]:<5} {'Меняем arr[non_zero_i] и arr[i]':<30} {arr}\")\n",
        "            non_zero_i += 1\n",
        "        # else:\n",
        "            # print(f\"{i:<5} {non_zero_i:<10} {arr[i]:<5} {'Пропускаем':<30} {arr}\")\n",
        "    return arr\n",
        "\n",
        "arr = [0, 0, 1, 0, 3, 12]\n",
        "result = move_zeros_to_end(arr)\n",
        "result"
      ]
    },
    {
      "cell_type": "markdown",
      "metadata": {
        "id": "H1Q1LgRGfi6K"
      },
      "source": []
    },
    {
      "cell_type": "code",
      "execution_count": null,
      "metadata": {
        "id": "4L7XuxjnebXP"
      },
      "outputs": [],
      "source": []
    }
  ],
  "metadata": {
    "colab": {
      "provenance": []
    },
    "kernelspec": {
      "display_name": "Python 3",
      "language": "python",
      "name": "python3"
    },
    "language_info": {
      "codemirror_mode": {
        "name": "ipython",
        "version": 3
      },
      "file_extension": ".py",
      "mimetype": "text/x-python",
      "name": "python",
      "nbconvert_exporter": "python",
      "pygments_lexer": "ipython3",
      "version": "3.12.2"
    }
  },
  "nbformat": 4,
  "nbformat_minor": 0
}
