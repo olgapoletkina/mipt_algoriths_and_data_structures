{
  "nbformat": 4,
  "nbformat_minor": 0,
  "metadata": {
    "colab": {
      "provenance": []
    },
    "kernelspec": {
      "name": "python3",
      "display_name": "Python 3"
    },
    "language_info": {
      "name": "python"
    }
  },
  "cells": [
    {
      "cell_type": "code",
      "source": [
        "import numpy as np\n",
        "import pandas as pd"
      ],
      "metadata": {
        "id": "2gIORiqMWB9X"
      },
      "execution_count": 4,
      "outputs": []
    },
    {
      "cell_type": "markdown",
      "source": [
        "## Найти максимальную сумму подмассива фиксированной длины k в массиве целых чисел"
      ],
      "metadata": {
        "id": "D7RM6Rh-g7vN"
      }
    },
    {
      "cell_type": "code",
      "execution_count": 5,
      "metadata": {
        "id": "RkI_lTfxfihk",
        "colab": {
          "base_uri": "https://localhost:8080/"
        },
        "outputId": "c71013b9-e18b-43a3-d782-437c1317b8a2"
      },
      "outputs": [
        {
          "output_type": "stream",
          "name": "stdout",
          "text": [
            "27\n"
          ]
        }
      ],
      "source": [
        "def max_subarray_sum(arr, k):\n",
        "    if len(arr) < k:\n",
        "        return None  # окно не помещается в массив\n",
        "\n",
        "    current_sum = sum(arr[:k])  # сумма первых k элементов\n",
        "    max_sum = current_sum\n",
        "\n",
        "    for i in range(k, len(arr)):\n",
        "        current_sum = current_sum - arr[i - k] + arr[i]  # сдвигаем окно\n",
        "        max_sum = max(max_sum, current_sum)\n",
        "\n",
        "    return max_sum\n",
        "\n",
        "nums = [1, 2, 3, 5, 5, 7, 3, 7]\n",
        "k = 5\n",
        "print(max_subarray_sum(nums, k))"
      ]
    },
    {
      "cell_type": "markdown",
      "source": [
        "## Дан массив nums и целое число k. Нужно найти количество подмассивов, сумма которых равна k.\n",
        "O(n)\n",
        "\n",
        "Дан массив nums и целое число k. Нужно найти количество подмассивов, сумма которых равна k\n"
      ],
      "metadata": {
        "id": "hr0yaICZhDcr"
      }
    },
    {
      "cell_type": "code",
      "source": [
        "def subarray_sum(nums, k):\n",
        "    prefix_sum = 0\n",
        "    prefix_count = {0: 1}  # сумма 0 встречается 1 раз (до начала массива)\n",
        "    count = 0\n",
        "\n",
        "    for num in nums:\n",
        "        prefix_sum += num\n",
        "        # print(prefix_sum, prefix_count, prefix_sum - k)\n",
        "        if prefix_sum - k in prefix_count:\n",
        "            count += prefix_count[prefix_sum - k]\n",
        "        prefix_count[prefix_sum] = prefix_count.get(prefix_sum, 0) + 1\n",
        "\n",
        "    return count\n",
        "\n",
        "nums = [1, 2, 3, 2, 1, 1]\n",
        "k = 3\n",
        "print(subarray_sum(nums, k))"
      ],
      "metadata": {
        "colab": {
          "base_uri": "https://localhost:8080/"
        },
        "id": "eMUi96uYhDEz",
        "outputId": "d050c57b-3862-4530-aacc-dddc267b30e3"
      },
      "execution_count": 12,
      "outputs": [
        {
          "output_type": "stream",
          "name": "stdout",
          "text": [
            "3\n"
          ]
        }
      ]
    },
    {
      "cell_type": "markdown",
      "source": [
        "## Найти максимальную длину подмассива с равным количеством нулей и единиц в бинарном массиве.\n",
        "\n",
        "- prefix_sum будет увеличиваться или уменьшаться: -1 для 0, +1 для 1.\n",
        "\n",
        "- как только prefix_sum повторится — значит, в промежутке между этими индексами сумма = 0, то есть поровну нулей и единиц.\n",
        "\n",
        "- мы сравниваем текущий индекс с тем, где впервые была такая же сумма, и обновляем max_len."
      ],
      "metadata": {
        "id": "KYdJThOiht_h"
      }
    },
    {
      "cell_type": "code",
      "source": [
        "def find_max_length(nums):\n",
        "    prefix_sum = 0\n",
        "    max_len = 0\n",
        "    index_map = {0: -1}  # сумма 0 встречается до начала массива (позиция -1)\n",
        "\n",
        "    for i, num in enumerate(nums):\n",
        "        prefix_sum += -1 if num == 0 else 1 # заменяем 0 на -1 (чтобы сумма = 0 -> означает равное число 0 и 1)\n",
        "        if prefix_sum in index_map:\n",
        "            length = i - index_map[prefix_sum]\n",
        "            max_len = max(max_len, length)\n",
        "        else:\n",
        "            index_map[prefix_sum] = i  # сохраняем первую позицию этой суммы\n",
        "    return max_len\n",
        "\n",
        "nums = [0, 1, 0, 0, 1, 1, 1, 1] # заменяем на [-1, 1, -1, -1, 1, 1]\n",
        "\n",
        "# префиксные суммы -> ищем расстояние между одинаковыми суммами\n",
        "print(find_max_length(nums))"
      ],
      "metadata": {
        "colab": {
          "base_uri": "https://localhost:8080/"
        },
        "id": "1hFmC1mAkek3",
        "outputId": "89374243-585f-46dd-c6cb-c5d6f76693b5"
      },
      "execution_count": 20,
      "outputs": [
        {
          "output_type": "stream",
          "name": "stdout",
          "text": [
            "6\n"
          ]
        }
      ]
    },
    {
      "cell_type": "markdown",
      "source": [
        "## Индекс поворота массива — это индекс, где сумма всех чисел слева равна сумме всех чисел справа (не включая сам элемент)."
      ],
      "metadata": {
        "id": "mMdEPzCPlH41"
      }
    },
    {
      "cell_type": "code",
      "source": [
        "def pivot_index(nums):\n",
        "    total_sum = sum(nums)  # общая сумма всех элементов\n",
        "    left_sum = 0 # сумма элементов слева от текущего индекса\n",
        "\n",
        "    for i in range(len(nums)):\n",
        "        # ороверяем, равна ли сумма слева сумме справа:\n",
        "        if left_sum == total_sum - left_sum - nums[i]: # справа = total_sum - left_sum - nums[i]\n",
        "            return i  # найден индекс поворота\n",
        "        left_sum += nums[i] # обновляем левую сумму, включая текущий элемент\n",
        "    return -1  # если поворотный индекс не найден\n",
        "\n",
        "nums = [9, 4, 8, 7, 1, 11, 2, 6, 1]\n",
        "print(pivot_index(nums))"
      ],
      "metadata": {
        "colab": {
          "base_uri": "https://localhost:8080/"
        },
        "id": "fiu3umLooTwy",
        "outputId": "dae9103a-efab-415c-df01-f918a520e559"
      },
      "execution_count": 22,
      "outputs": [
        {
          "output_type": "stream",
          "name": "stdout",
          "text": [
            "3\n"
          ]
        }
      ]
    },
    {
      "cell_type": "markdown",
      "source": [
        "## Баланс скобок через префиксные суммы» с условием удаления не более k"
      ],
      "metadata": {
        "id": "4iy5QnUoocGK"
      }
    },
    {
      "cell_type": "code",
      "source": [
        "def can_make_valid_with_deletions(s, k):\n",
        "    open_count = 0\n",
        "    extra_close = 0\n",
        "\n",
        "    for ch in s:\n",
        "        if ch == '(':\n",
        "            open_count += 1\n",
        "        else:\n",
        "            if open_count > 0:\n",
        "                open_count -= 1\n",
        "            else:\n",
        "                extra_close += 1\n",
        "\n",
        "    return open_count + extra_close <= k\n",
        "\n",
        "test_cases = [\n",
        "    (\"())((\", 3),\n",
        "    (\"(()))(\", 2),\n",
        "    (\"(()))(\", 1),\n",
        "    (\"()\", 0),\n",
        "    (\"))))\", 4),\n",
        "    (\"))))\", 3)\n",
        "]\n",
        "\n",
        "results = [(s, k, can_make_valid_with_deletions(s, k)) for s, k in test_cases]\n",
        "results"
      ],
      "metadata": {
        "colab": {
          "base_uri": "https://localhost:8080/"
        },
        "id": "UxgIaFE2ocdJ",
        "outputId": "1528c9ec-85d4-48bd-beff-384826edbe29"
      },
      "execution_count": null,
      "outputs": [
        {
          "output_type": "execute_result",
          "data": {
            "text/plain": [
              "[('())((', 3, True),\n",
              " ('(()))(', 2, True),\n",
              " ('(()))(', 1, False),\n",
              " ('()', 0, True),\n",
              " ('))))', 4, True),\n",
              " ('))))', 3, False)]"
            ]
          },
          "metadata": {},
          "execution_count": 9
        }
      ]
    }
  ]
}