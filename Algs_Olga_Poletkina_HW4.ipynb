{
  "cells": [
    {
      "cell_type": "code",
      "execution_count": 29,
      "metadata": {
        "id": "qItQZzdLOK2N"
      },
      "outputs": [],
      "source": [
        "import numpy as np\n",
        "from collections import deque"
      ]
    },
    {
      "cell_type": "markdown",
      "metadata": {
        "id": "CnUtXk678cHz"
      },
      "source": [
        "# Деревья\n",
        "\n",
        "- Восстановление бинарного дерева из массива\n",
        "\n",
        "- Проверка на симметричность бинарного дерева\n",
        "\n",
        "- Поиск минимальной глубины\n",
        "\n",
        "- Произведение минимального и максимального значения\n",
        "\n",
        "- Сравнение двух деревьев"
      ]
    },
    {
      "cell_type": "code",
      "execution_count": 30,
      "metadata": {
        "id": "0LY55-lUMM6o"
      },
      "outputs": [],
      "source": [
        "class TreeNode:\n",
        "    def __init__(self, val=0, left=None, right=None):\n",
        "        self.val = val\n",
        "        self.left = left\n",
        "        self.right = right"
      ]
    },
    {
      "cell_type": "code",
      "execution_count": 31,
      "metadata": {
        "id": "ygfFP_CxMN5m"
      },
      "outputs": [],
      "source": [
        "def print_tree(node, level=0, prefix=\"Root: \"):\n",
        "    if node is not None:\n",
        "        print(\" \" * (4 * level) + prefix + str(node.val))\n",
        "        print_tree(node.left, level + 1, \"L--- \")\n",
        "        print_tree(node.right, level + 1, \"R--- \")"
      ]
    },
    {
      "cell_type": "markdown",
      "metadata": {
        "id": "qmFpJfuj81BR"
      },
      "source": [
        "## Восстановление бинарного дерева из массива\n",
        "\n",
        "Необходимо реализовать функцию, которая будет принимать на вход массив и выстраивать из него бинарное дерево."
      ]
    },
    {
      "cell_type": "code",
      "execution_count": 32,
      "metadata": {
        "id": "uYJm-P6x8DjB"
      },
      "outputs": [],
      "source": [
        "# dont skip Nans\n",
        "def build_tree(arr, i=0):\n",
        "    if i >= len(arr):\n",
        "        return None\n",
        "    node = TreeNode(arr[i])\n",
        "    node.left = build_tree(arr, 2 * i + 1)\n",
        "    node.right = build_tree(arr, 2 * i + 2)\n",
        "    return node\n",
        "\n",
        "# skip Nans\n",
        "def build_tree_with_nulls(arr, i=0):\n",
        "    if i >= len(arr) or arr[i] is None:\n",
        "        return None\n",
        "    node = TreeNode(arr[i])\n",
        "    node.left = build_tree_with_nulls(arr, 2 * i + 1)\n",
        "    node.right = build_tree_with_nulls(arr, 2 * i + 2)\n",
        "    return node"
      ]
    },
    {
      "cell_type": "code",
      "execution_count": 33,
      "metadata": {
        "colab": {
          "base_uri": "https://localhost:8080/"
        },
        "id": "aAO_bm7LM5m-",
        "outputId": "8400113a-f456-4b78-ed45-51baef8b0ba5"
      },
      "outputs": [
        {
          "name": "stdout",
          "output_type": "stream",
          "text": [
            "Root: 8\n",
            "    L--- 9\n",
            "        L--- 7\n",
            "            L--- 10\n",
            "            R--- 12\n",
            "        R--- 16\n",
            "            L--- 13\n",
            "            R--- 15\n",
            "    R--- 11\n",
            "        L--- 3\n",
            "            L--- 27\n",
            "        R--- 1\n",
            "------------------------------\n",
            "Root: 1\n",
            "    R--- 2\n",
            "        R--- 3\n"
          ]
        }
      ],
      "source": [
        "arr = [8, 9, 11, 7, 16, 3, 1, 10, 12, 13, 15, 27]\n",
        "tree = build_tree(arr)\n",
        "print_tree(tree)\n",
        "\n",
        "print('-' * 30)\n",
        "\n",
        "arr = [1, None, 2, None, None, None, 3]\n",
        "tree = build_tree_with_nulls(arr)\n",
        "print_tree(tree)"
      ]
    },
    {
      "cell_type": "markdown",
      "metadata": {
        "id": "ekLPRwn6PL-E"
      },
      "source": [
        "## Симметричное бинарное дерево\n",
        "На вход функции подается\n",
        "бинарное дерево. Необходимо понять, является ли\n",
        "это дерево симметричным.\n",
        "\n",
        "### Симметричное бинарное дерево. Breadth-First Search\n",
        "Обход бинарного дерева в ширину\n",
        "\n",
        "- Создаем массив узлов дерева, чтобы можно\n",
        "было по нему итерироваться\n",
        "- На первой итерации в массиве только корень\n",
        "- Для каждого уровня создаем очередь из узлов, в\n",
        "которую будем складывать всех детей текущего\n",
        "уровня. То есть для 2 уровня (8 и 8) в очереди\n",
        "будут храниться узлы 9, 6, 6, 9.\n"
      ]
    },
    {
      "cell_type": "code",
      "execution_count": 34,
      "metadata": {
        "id": "ks5svQJdNNVe"
      },
      "outputs": [],
      "source": [
        "def is_symmetric_bfs(root):\n",
        "    if root == None:\n",
        "        return True\n",
        "\n",
        "    queue = deque([root])\n",
        "\n",
        "    while queue: # текущий уровень для сравнения узлов зеркально друг относительно друга\n",
        "        level = list(queue)\n",
        "        n = len(level)\n",
        "\n",
        "        for i in range(n // 2): # идем от двух концов очереди к середине, сравнивая зеркальные узлы\n",
        "            left = level[i]\n",
        "            right = level [n-i-1]\n",
        "\n",
        "            if left is None and right is None:\n",
        "                continue\n",
        "            if left is None or right is None:\n",
        "                return False\n",
        "            if left.val != right.val:\n",
        "                return False\n",
        "\n",
        "        for _ in range(n): # переход к следующему уровню — добавляем детей всех текущих узлов.\n",
        "            node = queue.popleft()\n",
        "            if node:\n",
        "                queue.append(node.left)\n",
        "                queue.append(node.right)\n",
        "    return True"
      ]
    },
    {
      "cell_type": "code",
      "execution_count": 35,
      "metadata": {
        "colab": {
          "base_uri": "https://localhost:8080/"
        },
        "id": "JrbXGqnGSKzn",
        "outputId": "c7e0f840-9c8a-4b28-cb5a-391abace5dcb"
      },
      "outputs": [
        {
          "name": "stdout",
          "output_type": "stream",
          "text": [
            "True\n"
          ]
        }
      ],
      "source": [
        "tree = TreeNode(3,\n",
        "        TreeNode(8, TreeNode(9), TreeNode(6)),\n",
        "        TreeNode(8, TreeNode(6), TreeNode(9))\n",
        "    )\n",
        "\n",
        "print(is_symmetric_bfs(tree))"
      ]
    },
    {
      "cell_type": "code",
      "execution_count": 36,
      "metadata": {
        "id": "FZasXwXoTMot"
      },
      "outputs": [],
      "source": [
        "def is_mirror(left, right):\n",
        "    if left is None and right is None:\n",
        "        return True\n",
        "    if left is None or right is None:\n",
        "        return False\n",
        "    if left.val != right.val:\n",
        "        return False\n",
        "    # рекурсивно сравниваем:\n",
        "    # левое поддерево \"слева\" с правым поддеревом \"справа\"\n",
        "    # правое поддерево \"слева\" с левым поддеревом \"справа\"\n",
        "    return is_mirror(left.left, right.right) and is_mirror(left.right, right.left)\n",
        "\n",
        "def is_symmetric(root):\n",
        "    # Пустое дерево по определению симметрично\n",
        "    if not root:\n",
        "        return True\n",
        "    return is_mirror(root.left, root.right)"
      ]
    },
    {
      "cell_type": "code",
      "execution_count": 37,
      "metadata": {
        "colab": {
          "base_uri": "https://localhost:8080/"
        },
        "id": "g4vzwPz2TojQ",
        "outputId": "35d677d5-1040-406a-bbc7-3c00a143eeed"
      },
      "outputs": [
        {
          "name": "stdout",
          "output_type": "stream",
          "text": [
            "True\n"
          ]
        }
      ],
      "source": [
        "root = TreeNode(1,\n",
        "    left=TreeNode(2, TreeNode(3), TreeNode(4)),\n",
        "    right=TreeNode(2, TreeNode(4), TreeNode(3))\n",
        ")\n",
        "\n",
        "print(is_symmetric(root))"
      ]
    },
    {
      "cell_type": "markdown",
      "metadata": {
        "id": "7fKaGehDUfDk"
      },
      "source": [
        "### Симметричное дерево. Depth-First Search\n",
        "Обход дерева в глубину\n",
        "\n",
        "- Самый простой вариант - это\n",
        "вариант, при котором при\n",
        "прохождении по бинарному дереву\n",
        "поиска получили бы\n",
        "отсортированный массив LNR.\n",
        "- [9, 8, 6, 3, 6, 8, 9]\n",
        "\n",
        "\n",
        "- Если корень пустой, считаем, что дерево\n",
        "симметрично\n",
        "- Обходим дерево сохраняя в массив результат\n",
        "обхода\n",
        "- Как раньше проверяли очередь - проверяем\n",
        "массив на симметричность"
      ]
    },
    {
      "cell_type": "code",
      "execution_count": 38,
      "metadata": {
        "id": "Nkerhd2HVe4k"
      },
      "outputs": [],
      "source": [
        "def is_symmetric_dfs(node, result):\n",
        "    if not node:\n",
        "        return\n",
        "\n",
        "    if node.left and node.right:\n",
        "        is_symmetric_dfs(node.left.left, result) # рекурсивно уходим в самое левое поддерево\n",
        "        result.append(node.left.val) # сохраняем значение левого дочернего узла\n",
        "        is_symmetric_dfs(node.left.right, result) # переходим к правому поддереву левого узла\n",
        "\n",
        "        result.append(node.val) # добавляем корень поддерева\n",
        "\n",
        "        is_symmetric_dfs(node.right.left, result) # левое поддерево правого узла\n",
        "        result.append(node.right.val) # значение правого дочернего узла\n",
        "        is_symmetric_dfs(node.right.right, result) # переходим к правому поддереву правого узла\n",
        "    else:\n",
        "        result.append(node.val)\n",
        "\n",
        "    return result == result[::-1]"
      ]
    },
    {
      "cell_type": "code",
      "execution_count": 39,
      "metadata": {
        "colab": {
          "base_uri": "https://localhost:8080/"
        },
        "id": "Yy6SmtOHPQ7m",
        "outputId": "3d911994-2909-4da3-c701-acaf1c948e10"
      },
      "outputs": [
        {
          "name": "stdout",
          "output_type": "stream",
          "text": [
            "True\n",
            "[3, 2, 4, 1, 4, 2, 3]\n"
          ]
        }
      ],
      "source": [
        "root = TreeNode(1,\n",
        "    left=TreeNode(2, TreeNode(3), TreeNode(4)),\n",
        "    right=TreeNode(2, TreeNode(4), TreeNode(3))\n",
        ")\n",
        "result = []\n",
        "print(is_symmetric_dfs(root, result))\n",
        "print(result)"
      ]
    },
    {
      "cell_type": "markdown",
      "metadata": {
        "id": "quncLM9kTOhA"
      },
      "source": [
        "## Поиск минимальной глубины бинарного дерева\n",
        "На вход функции подается бинарное\n",
        "дерево. Необходимо найти минимальную\n",
        "глубину дерева.\n",
        "\n",
        "\n",
        "- Если root не существует, значит, на этом уровне\n",
        "глубина равна нулю\n",
        "- Если у узла есть и левый, и правый потомки, а\n",
        "значит, есть и левое, и правое поддеревья,\n",
        "необходимо вернуть минимальную глубину из\n",
        "этих поддеревьев\n",
        "- К результату необходимо прибавить 1, чтобы\n",
        "учесть корневой уровень\n",
        "- Если есть только левое/правое поддерево,\n",
        "продолжаем поиск только по нему, плюс\n",
        "корневой уровень"
      ]
    },
    {
      "cell_type": "code",
      "execution_count": 40,
      "metadata": {
        "id": "-cwuyirGU4ft"
      },
      "outputs": [],
      "source": [
        "def min_depth(root):\n",
        "    if root is None:\n",
        "        return 0\n",
        "\n",
        "    if root.left is None and root.right is None: # листовой узел\n",
        "        return 1\n",
        "\n",
        "    if root.left and root.right: # если есть оба потомка, ищем меньший\n",
        "        return 1 + min(min_depth(root.left), min_depth(root.right))\n",
        "\n",
        "    if root.left: # только левое поддерево\n",
        "        return 1 + min_depth(root.left)\n",
        "\n",
        "    return 1 + min_depth(root.right) # только правое"
      ]
    },
    {
      "cell_type": "code",
      "execution_count": 46,
      "metadata": {
        "colab": {
          "base_uri": "https://localhost:8080/"
        },
        "id": "8gAhSOpkU46N",
        "outputId": "338490fe-90c0-4069-9fef-f5106463e485"
      },
      "outputs": [
        {
          "name": "stdout",
          "output_type": "stream",
          "text": [
            "Root: 1\n",
            "    L--- 2\n",
            "        L--- 3\n",
            "        R--- 4\n",
            "    R--- 0\n",
            "2\n"
          ]
        }
      ],
      "source": [
        "root = TreeNode(1,\n",
        "    left=TreeNode(2, TreeNode(3), TreeNode(4)),\n",
        "    right=TreeNode()\n",
        ")\n",
        "\n",
        "\n",
        "print_tree(root)\n",
        "\n",
        "print(min_depth(root))"
      ]
    },
    {
      "cell_type": "markdown",
      "metadata": {
        "id": "Dh81o1DxWocL"
      },
      "source": [
        "## Поиск произведения максимального и минимального элементов\n",
        "\n",
        "Дано бинарное дерево поиска в виде массива. Необходимо найти\n",
        "произведение минимального и максимального значений.\n",
        "\n",
        "- определяем индекс минимального элемента\n",
        "- устанавливаем min_index равным `1`\n",
        "- далее в цикле двигаем его на `2 * i + 1`\n",
        "- определяем индекс максимального элемента\n",
        "- устанавливаем max_index равным `2`\n",
        "- далее двигаем его на `2 * i + 2`\n"
      ]
    },
    {
      "cell_type": "code",
      "execution_count": 55,
      "metadata": {
        "id": "8daqmUD6WSG6"
      },
      "outputs": [],
      "source": [
        "def max_min_multiplication(data):\n",
        "    if len(data) < 3: # недостаточно элементов для потомков\n",
        "        return -1\n",
        "\n",
        "    min_index = 1 # первый левый потомок\n",
        "    max_index = 2 # первый правый потомок\n",
        "\n",
        "    for i in range(1, len(data)): # проходим по всем левым потомкам, индексы 2 * i + 1\n",
        "        left = 2 * i + 1\n",
        "        if left < len(data):\n",
        "            if data[left] < data[min_index]:\n",
        "                min_index = left\n",
        "\n",
        "    for i in range(1, len(data)): # проходим по всем правым потомкам, индексы 2 * i + 2\n",
        "        right = 2 * i + 2\n",
        "        if right < len(data):\n",
        "            if data[right] > data[max_index]:\n",
        "                max_index = right\n",
        "\n",
        "    return f'min :{data[min_index]}, max: {data[max_index]}, mult: {data[min_index] * data[max_index]}'"
      ]
    },
    {
      "cell_type": "code",
      "execution_count": 56,
      "metadata": {
        "colab": {
          "base_uri": "https://localhost:8080/"
        },
        "id": "oPQ49LDlY4LJ",
        "outputId": "13c14f68-9194-4bf8-f057-a0fff52ed907"
      },
      "outputs": [
        {
          "name": "stdout",
          "output_type": "stream",
          "text": [
            "min :11, max: 24, mult: 264\n"
          ]
        }
      ],
      "source": [
        "data = [16, 12, 18, 11, 15, 17, 21, 19, 24]\n",
        "print(max_min_multiplication(data))"
      ]
    },
    {
      "cell_type": "markdown",
      "metadata": {
        "id": "-ARF5KUvbcl5"
      },
      "source": [
        "## Сравнение двух деревьев\n",
        "На вход функции подается 2 бинарных\n",
        "дерева.\n",
        "Необходимо понять, являются ли эти\n",
        "два дерева одинаковыми.\n",
        "\n",
        "- BFS\n",
        "- DFS (NLR NRL)\n",
        "- Сравниваем два массива\n",
        "\n",
        "\n",
        "\n",
        "\n",
        "- Рекурсивный подход\n",
        "- На каждом вызове сравниваем\n",
        "соответствующие поддеревья\n",
        "- Если текущие поддеревья равны\n",
        "null, значит деревья равны\n",
        "- Если только одно из поддеревьев\n",
        "равно null, значит на этом уровне\n",
        "деревья не равны"
      ]
    },
    {
      "cell_type": "code",
      "execution_count": 57,
      "metadata": {
        "id": "qcFxQHv_axqX"
      },
      "outputs": [],
      "source": [
        "def is_same_tree(a, b):\n",
        "    if a is None and b is None:\n",
        "        return True\n",
        "\n",
        "    if a is None or b is None:\n",
        "        return False\n",
        "\n",
        "    if a.val != b.val:\n",
        "        return False\n",
        "\n",
        "    return is_same_tree(a.left, b.left) and is_same_tree(a.right, b.right)"
      ]
    },
    {
      "cell_type": "code",
      "execution_count": 58,
      "metadata": {
        "colab": {
          "base_uri": "https://localhost:8080/"
        },
        "id": "adJJlt82cJCm",
        "outputId": "e1485398-5e97-4382-9561-54d2161f4729"
      },
      "outputs": [
        {
          "name": "stdout",
          "output_type": "stream",
          "text": [
            "False\n"
          ]
        }
      ],
      "source": [
        "a = TreeNode(1,\n",
        "    left=TreeNode(2, TreeNode(3), TreeNode(4)),\n",
        "    right=TreeNode()\n",
        ")\n",
        "\n",
        "b = TreeNode(1,\n",
        "    left=TreeNode(2, TreeNode(3), TreeNode(4)),\n",
        "    right=TreeNode(2, TreeNode(3), None)\n",
        ")\n",
        "\n",
        "print(is_same_tree(a, b))"
      ]
    },
    {
      "cell_type": "markdown",
      "metadata": {
        "id": "7KZJgMDQcYU0"
      },
      "source": [
        "## Является ли дерево В поддеревом для А\n",
        "На вход функции подается два бинарных дерева. Необходимо\n",
        "вернуть true, если дерево B является поддеревом для A"
      ]
    },
    {
      "cell_type": "code",
      "execution_count": 59,
      "metadata": {
        "id": "D_I4aEyncTJ0"
      },
      "outputs": [],
      "source": [
        "def is_subtree(a, b):\n",
        "    if b is None:\n",
        "        return True\n",
        "\n",
        "    if a is None:\n",
        "        return False\n",
        "\n",
        "    if is_same_tree(a, b):\n",
        "        return True\n",
        "\n",
        "    return is_subtree(a.left, b) or is_subtree(a.right, b)"
      ]
    },
    {
      "cell_type": "code",
      "execution_count": 61,
      "metadata": {
        "colab": {
          "base_uri": "https://localhost:8080/"
        },
        "id": "6fZQR0PWc8U0",
        "outputId": "33f38cab-6446-49fe-b177-2c7128979da5"
      },
      "outputs": [
        {
          "name": "stdout",
          "output_type": "stream",
          "text": [
            "True\n"
          ]
        }
      ],
      "source": [
        "a = TreeNode(1,\n",
        "    left=TreeNode(2, TreeNode(3), TreeNode(4)),\n",
        "    right=TreeNode()\n",
        ")\n",
        "\n",
        "b = TreeNode(1,\n",
        "    left=TreeNode(2, TreeNode(3), TreeNode(4)),\n",
        "    right=TreeNode()\n",
        ")\n",
        "\n",
        "print(is_same_tree(a, b))"
      ]
    },
    {
      "cell_type": "markdown",
      "metadata": {
        "id": "GgEMm1UHdBoc"
      },
      "source": [
        "## Зеркальные узлы\n",
        "\n",
        "Дано бинарное дерево. Необходимо подсчитать количество\n",
        "зеркальных узлов в нем"
      ]
    },
    {
      "cell_type": "code",
      "execution_count": 62,
      "metadata": {
        "id": "OkKuC--pdBR0"
      },
      "outputs": [],
      "source": [
        "def dfs(left, right):\n",
        "    if left is None or right is None: # если один из узлов отсутствует — не пара\n",
        "        return 0\n",
        "\n",
        "    count = 0\n",
        "\n",
        "    if left.val == right.val:  # нашли зеркальную пару по значению\n",
        "        count = 1\n",
        "\n",
        "    # продолжаем проверку зеркальных поддеревьев\n",
        "    count += dfs(left.left, right.right)\n",
        "    count += dfs(left.right, right.left)\n",
        "\n",
        "    return count\n",
        "\n",
        "def count_mirror_twins(root):\n",
        "    if root is None:\n",
        "        return 0\n",
        "    # запускаем зеркальное сравнение левого и правого поддеревьев\n",
        "    return dfs(root.left, root.right)"
      ]
    },
    {
      "cell_type": "code",
      "execution_count": 63,
      "metadata": {
        "colab": {
          "base_uri": "https://localhost:8080/"
        },
        "id": "piuYqyTHdxvU",
        "outputId": "f7ed910a-c58d-4d69-943f-b6c49709948a"
      },
      "outputs": [
        {
          "name": "stdout",
          "output_type": "stream",
          "text": [
            "3\n"
          ]
        }
      ],
      "source": [
        "root = TreeNode(1,\n",
        "    left=TreeNode(2, TreeNode(3), TreeNode(4)),\n",
        "    right=TreeNode(2, TreeNode(4), TreeNode(3))\n",
        ")\n",
        "\n",
        "print(count_mirror_twins(root))"
      ]
    }
  ],
  "metadata": {
    "colab": {
      "provenance": []
    },
    "kernelspec": {
      "display_name": "Python 3",
      "name": "python3"
    },
    "language_info": {
      "name": "python"
    }
  },
  "nbformat": 4,
  "nbformat_minor": 0
}
