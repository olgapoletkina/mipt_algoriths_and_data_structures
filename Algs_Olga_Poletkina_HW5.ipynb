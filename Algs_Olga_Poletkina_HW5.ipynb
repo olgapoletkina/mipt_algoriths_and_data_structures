{
  "nbformat": 4,
  "nbformat_minor": 0,
  "metadata": {
    "colab": {
      "provenance": []
    },
    "kernelspec": {
      "name": "python3",
      "display_name": "Python 3"
    },
    "language_info": {
      "name": "python"
    }
  },
  "cells": [
    {
      "cell_type": "code",
      "source": [
        "import numpy as np\n",
        "from collections import deque\n",
        "import heapq"
      ],
      "metadata": {
        "id": "hD5npwLuK8Iu"
      },
      "execution_count": 53,
      "outputs": []
    },
    {
      "cell_type": "code",
      "source": [
        "class TreeNode:\n",
        "    def __init__(self, val=0, left=None, right=None):\n",
        "        self.val = val\n",
        "        self.left = left\n",
        "        self.right = right"
      ],
      "metadata": {
        "id": "n7wGe1gdK9PV"
      },
      "execution_count": 54,
      "outputs": []
    },
    {
      "cell_type": "code",
      "source": [
        "def print_tree(node, level=0, prefix=\"Root: \"):\n",
        "    if node is not None:\n",
        "        print(\" \" * (4 * level) + prefix + str(node.val))\n",
        "        print_tree(node.left, level + 1, \"L--- \")\n",
        "        print_tree(node.right, level + 1, \"R--- \")"
      ],
      "metadata": {
        "id": "4CFaC2xxLAcU"
      },
      "execution_count": 55,
      "outputs": []
    },
    {
      "cell_type": "markdown",
      "source": [
        "## Проверка корректности кучи\n",
        "\n",
        "Напишите функцию, которая проверяет, является ли заданный массив корректной кучей (минимум или максимум). Алгоритм должен проверить, что все узлы удовлетворяют свойству кучи.\n",
        "\n",
        "Если у нас есть массив `arr`, то для любого индекса `i`:\n",
        "\n",
        "- Левый ребёнок находится по индексу `2*i + 1`\n",
        "- Правый ребёнок — по индексу `2*i + 2`\n",
        "- Родитель (если нужен) — по индексу `(i - 1) // 2`"
      ],
      "metadata": {
        "id": "DARil2PW0tkE"
      }
    },
    {
      "cell_type": "markdown",
      "source": [
        "- Левый ребёнок узла `i` находится по индексу `2*i + 1`\n",
        "- Чтобы левый ребёнок ещё был в пределах массива, должно быть:\n",
        "\n",
        "```\n",
        "2*i + 1 < n\n",
        "→ 2*i < n - 1\n",
        "→ i < (n - 1) / 2\n",
        "```"
      ],
      "metadata": {
        "id": "IdRNv3jEGBxb"
      }
    },
    {
      "cell_type": "code",
      "execution_count": 56,
      "metadata": {
        "id": "nV_hCpFW0EBl"
      },
      "outputs": [],
      "source": [
        "def is_max_min_heap(arr, check=max):\n",
        "    n = len(arr)\n",
        "    if n == 0:\n",
        "        return True\n",
        "\n",
        "    for i in range(n // 2):\n",
        "        left_child = 2 * i + 1\n",
        "        right_child = 2 * i + 2\n",
        "\n",
        "        if left_child < n and check(arr[i], arr[left_child]) != arr[i]: # check -> min -> min(arr[i], arr[child] -> for True equals arr[i])\n",
        "            return False\n",
        "        if right_child < n and check(arr[i], arr[right_child]) != arr[i]:\n",
        "            return False\n",
        "\n",
        "    return True"
      ]
    },
    {
      "cell_type": "code",
      "source": [
        "print(is_max_min_heap([9, 5, 6, 2, 3], check=max))\n",
        "print(is_max_min_heap([1, 3, 2, 7, 6], check=min))\n",
        "print(is_max_min_heap([1, 6, 2, 7, 3], check=min))"
      ],
      "metadata": {
        "colab": {
          "base_uri": "https://localhost:8080/"
        },
        "id": "StR5muWJH924",
        "outputId": "dc6e9c8e-f7f5-424b-d59a-90739266d0bd"
      },
      "execution_count": 57,
      "outputs": [
        {
          "output_type": "stream",
          "name": "stdout",
          "text": [
            "True\n",
            "True\n",
            "False\n"
          ]
        }
      ]
    },
    {
      "cell_type": "markdown",
      "source": [
        "## Проверка корректности с обходом в ширину\n",
        "\n"
      ],
      "metadata": {
        "id": "IwPgjU3iJhKp"
      }
    },
    {
      "cell_type": "code",
      "source": [
        "def is_max_heap(root):\n",
        "    if not root:\n",
        "        return True\n",
        "\n",
        "    queue = deque([root])\n",
        "    should_be_leaf = False # Flag\n",
        "\n",
        "    while queue:\n",
        "        current = queue.popleft() # текущий узел дерева, проверим его потомков, добавим их в очередь и т.д.\n",
        "\n",
        "        if current.left:\n",
        "            if should_be_leaf or current.left.val > current.val:\n",
        "                return False\n",
        "            queue.append(current.left)\n",
        "        else:\n",
        "            should_be_leaf = True  # слева ничего —> дальше листья\n",
        "\n",
        "        if current.right:\n",
        "            if should_be_leaf or current.right.val > current.val:\n",
        "                return False\n",
        "            queue.append(current.right)\n",
        "        else:\n",
        "            should_be_leaf = True  # справа ничего —> листья\n",
        "\n",
        "    return True"
      ],
      "metadata": {
        "id": "bRm1r_JQLIN0"
      },
      "execution_count": 58,
      "outputs": []
    },
    {
      "cell_type": "code",
      "source": [
        "root = TreeNode(10)\n",
        "root.left = TreeNode(9)\n",
        "root.right = TreeNode(8)\n",
        "root.left.left = TreeNode(4)\n",
        "root.left.right = TreeNode(7)\n",
        "\n",
        "print_tree(root)\n",
        "print('-' * 20)\n",
        "print(is_max_heap(root))"
      ],
      "metadata": {
        "colab": {
          "base_uri": "https://localhost:8080/"
        },
        "id": "-RlnsMM-OTcH",
        "outputId": "6d7aee05-c9a3-4799-dbf6-5c4d245192c1"
      },
      "execution_count": 59,
      "outputs": [
        {
          "output_type": "stream",
          "name": "stdout",
          "text": [
            "Root: 10\n",
            "    L--- 9\n",
            "        L--- 4\n",
            "        R--- 7\n",
            "    R--- 8\n",
            "--------------------\n",
            "True\n"
          ]
        }
      ]
    },
    {
      "cell_type": "markdown",
      "source": [
        "## Полное бинарное дерево"
      ],
      "metadata": {
        "id": "Z4G3_oVoO1GP"
      }
    },
    {
      "cell_type": "markdown",
      "source": [
        "```\n",
        "В обходе в ширину (BFS):\n",
        "мы посещаем: 8 → 3 → 9 → 11 → 6\n",
        "\n",
        "Что происходит с очередью:\n",
        "8: есть левый (3) и правый (9) → всё ок, добавляем обоих в очередь\n",
        "3: есть левый (11) и правый (6) → тоже всё ок, добавляем обоих\n",
        "9: нет детей → теперь мы устанавливаем seen_none = True\n",
        "Это нормально — мы дошли до «зоны листьев»\n",
        "11: нет детей → всё ещё ок, потому что seen_none уже True\n",
        "6: нет детей → тоже всё хорошо\n",
        "```"
      ],
      "metadata": {
        "id": "Y0mABQJtRncK"
      }
    },
    {
      "cell_type": "code",
      "source": [
        "def is_complete_binary_tree(root):\n",
        "    if not root:\n",
        "        return True\n",
        "\n",
        "    queue = deque([root])\n",
        "    seen_none = False # Flag\n",
        "\n",
        "    while queue:\n",
        "        current = queue.popleft()\n",
        "        if current is None:\n",
        "            seen_none = True # hit a gap in the tree\n",
        "        else:\n",
        "            if seen_none:\n",
        "                return False  # found node after a gap → not complete\n",
        "            queue.append(current.left)\n",
        "            queue.append(current.right)\n",
        "\n",
        "    return True"
      ],
      "metadata": {
        "id": "2jHQKIEFOgsI"
      },
      "execution_count": 60,
      "outputs": []
    },
    {
      "cell_type": "code",
      "source": [
        "root1 = TreeNode(1)\n",
        "root1.left = TreeNode(2)\n",
        "root1.right = TreeNode(3)\n",
        "root1.left.left = TreeNode(4)\n",
        "root1.left.right = TreeNode(5)\n",
        "root1.right.left = TreeNode(6)\n",
        "\n",
        "print_tree(root1)\n",
        "print(is_complete_binary_tree(root1))\n",
        "print('-' * 20)\n",
        "\n",
        "root2 = TreeNode(1)\n",
        "root2.left = TreeNode(2)\n",
        "root2.right = TreeNode(3)\n",
        "root2.left.left = TreeNode(4)\n",
        "root2.right.right = TreeNode(6)\n",
        "\n",
        "print_tree(root2)\n",
        "print(is_complete_binary_tree(root2))"
      ],
      "metadata": {
        "colab": {
          "base_uri": "https://localhost:8080/"
        },
        "id": "V0tdPr26PptI",
        "outputId": "b43f676c-9fed-4b1e-a31f-c3b44222fc10"
      },
      "execution_count": 61,
      "outputs": [
        {
          "output_type": "stream",
          "name": "stdout",
          "text": [
            "Root: 1\n",
            "    L--- 2\n",
            "        L--- 4\n",
            "        R--- 5\n",
            "    R--- 3\n",
            "        L--- 6\n",
            "True\n",
            "--------------------\n",
            "Root: 1\n",
            "    L--- 2\n",
            "        L--- 4\n",
            "    R--- 3\n",
            "        R--- 6\n",
            "False\n"
          ]
        }
      ]
    },
    {
      "cell_type": "markdown",
      "source": [
        "## Объединение `K` отсортированных массивов\n",
        "Реализуйте функцию, которая объединяет `K` отсортированных массивов в один отсортированный массив. Используйте мин-кучу для хранения наименьших элементов текущих массивов, что позволит извлекать их по очереди, сохраняя порядок."
      ],
      "metadata": {
        "id": "s1IB0maWUVZC"
      }
    },
    {
      "cell_type": "markdown",
      "source": [
        "Сложность\n",
        "1. Инициализация кучи:\n",
        "Мы проходим по каждому из K массивов и добавляем первый элемент каждого массива в мин-кучу.\n",
        "Это занимает `O(K)` времени, так как мы добавляем только K элементов.\n",
        "\n",
        "2. Извлечение элементов из кучи:\n",
        "В каждом цикле `while` мы извлекаем наименьший элемент из кучи.\n",
        "Извлечение элемента из мин-кучи занимает `O(log K)` времени, так как в худшем случае нам нужно будет перестраивать кучу.\n",
        "В процессе извлечения мы также добавляем следующий элемент из того же массива в кучу.\n",
        "Это также занимает `O(log K)` времени.\n",
        "\n",
        "3. Общее количество извлечений:\n",
        "В худшем случае, если все массивы имеют в сумме N элементов,\n",
        "мы будем извлекать элементы `N` раз.\n",
        "Поэтому общее время, затраченное на извлечение и добавление элементов, составит `O(N log K)`.\n",
        "\n",
        "Итоговая временная сложность:\n",
        "`O(K + N log K)`, где\n",
        "\n",
        "`K` — количество массивов,\n",
        "\n",
        "`N` — общее количество элементов во всех массивах."
      ],
      "metadata": {
        "id": "-jWMrJkInTzQ"
      }
    },
    {
      "cell_type": "code",
      "source": [
        "def merge_k_sorted_arrays(arrays):\n",
        "    heap = []\n",
        "    result = []\n",
        "    print(\"Инициализация кучи:\")\n",
        "    for i, arr in enumerate(arrays):\n",
        "        if arr:\n",
        "            heapq.heappush(heap, (arr[0], i, 0)) # (значение, индекс массива, индекс внутри массива)\n",
        "            print(f\"Добавлен элемент {arr[0]} из массива {i}: {heap}\")\n",
        "    print(\"\\n Объединение:\")\n",
        "    while heap:\n",
        "        val, arr_idx, elem_idx = heapq.heappop(heap)\n",
        "        result.append(val)\n",
        "        print(f\"Взяли минимальный элемент: {val} (из массива {arr_idx}, индекс {elem_idx})\")\n",
        "        print(f\"-> Текущий результат: {result}\")\n",
        "\n",
        "        if elem_idx + 1 < len(arrays[arr_idx]):\n",
        "            next_val = arrays[arr_idx][elem_idx + 1]\n",
        "            heapq.heappush(heap, (next_val, arr_idx, elem_idx + 1))\n",
        "            print(f\"Добавлен следующий элемент: {next_val} (из массива {arr_idx}, индекс {elem_idx + 1})\")\n",
        "            print(f\"-> Текущая куча: {heap}\")\n",
        "        else:\n",
        "            print(f\"Массив {arr_idx} закончился\")\n",
        "    return result"
      ],
      "metadata": {
        "id": "0t86OrJ2TYXi"
      },
      "execution_count": 62,
      "outputs": []
    },
    {
      "cell_type": "code",
      "source": [
        "arrays = [\n",
        "    [1, 3, 5, 7],\n",
        "    [2, 4, 6],\n",
        "    [0, 8, 9, 11]\n",
        "]\n",
        "\n",
        "merge_k_sorted_arrays(arrays)"
      ],
      "metadata": {
        "colab": {
          "base_uri": "https://localhost:8080/"
        },
        "id": "2dV21vujeKGn",
        "outputId": "18f07547-83a3-45e5-bbf4-0631ae569cfe"
      },
      "execution_count": 63,
      "outputs": [
        {
          "output_type": "stream",
          "name": "stdout",
          "text": [
            "Инициализация кучи:\n",
            "Добавлен элемент 1 из массива 0: [(1, 0, 0)]\n",
            "Добавлен элемент 2 из массива 1: [(1, 0, 0), (2, 1, 0)]\n",
            "Добавлен элемент 0 из массива 2: [(0, 2, 0), (2, 1, 0), (1, 0, 0)]\n",
            "\n",
            " Объединение:\n",
            "Взяли минимальный элемент: 0 (из массива 2, индекс 0)\n",
            "-> Текущий результат: [0]\n",
            "Добавлен следующий элемент: 8 (из массива 2, индекс 1)\n",
            "-> Текущая куча: [(1, 0, 0), (2, 1, 0), (8, 2, 1)]\n",
            "Взяли минимальный элемент: 1 (из массива 0, индекс 0)\n",
            "-> Текущий результат: [0, 1]\n",
            "Добавлен следующий элемент: 3 (из массива 0, индекс 1)\n",
            "-> Текущая куча: [(2, 1, 0), (8, 2, 1), (3, 0, 1)]\n",
            "Взяли минимальный элемент: 2 (из массива 1, индекс 0)\n",
            "-> Текущий результат: [0, 1, 2]\n",
            "Добавлен следующий элемент: 4 (из массива 1, индекс 1)\n",
            "-> Текущая куча: [(3, 0, 1), (8, 2, 1), (4, 1, 1)]\n",
            "Взяли минимальный элемент: 3 (из массива 0, индекс 1)\n",
            "-> Текущий результат: [0, 1, 2, 3]\n",
            "Добавлен следующий элемент: 5 (из массива 0, индекс 2)\n",
            "-> Текущая куча: [(4, 1, 1), (8, 2, 1), (5, 0, 2)]\n",
            "Взяли минимальный элемент: 4 (из массива 1, индекс 1)\n",
            "-> Текущий результат: [0, 1, 2, 3, 4]\n",
            "Добавлен следующий элемент: 6 (из массива 1, индекс 2)\n",
            "-> Текущая куча: [(5, 0, 2), (8, 2, 1), (6, 1, 2)]\n",
            "Взяли минимальный элемент: 5 (из массива 0, индекс 2)\n",
            "-> Текущий результат: [0, 1, 2, 3, 4, 5]\n",
            "Добавлен следующий элемент: 7 (из массива 0, индекс 3)\n",
            "-> Текущая куча: [(6, 1, 2), (8, 2, 1), (7, 0, 3)]\n",
            "Взяли минимальный элемент: 6 (из массива 1, индекс 2)\n",
            "-> Текущий результат: [0, 1, 2, 3, 4, 5, 6]\n",
            "Массив 1 закончился\n",
            "Взяли минимальный элемент: 7 (из массива 0, индекс 3)\n",
            "-> Текущий результат: [0, 1, 2, 3, 4, 5, 6, 7]\n",
            "Массив 0 закончился\n",
            "Взяли минимальный элемент: 8 (из массива 2, индекс 1)\n",
            "-> Текущий результат: [0, 1, 2, 3, 4, 5, 6, 7, 8]\n",
            "Добавлен следующий элемент: 9 (из массива 2, индекс 2)\n",
            "-> Текущая куча: [(9, 2, 2)]\n",
            "Взяли минимальный элемент: 9 (из массива 2, индекс 2)\n",
            "-> Текущий результат: [0, 1, 2, 3, 4, 5, 6, 7, 8, 9]\n",
            "Добавлен следующий элемент: 11 (из массива 2, индекс 3)\n",
            "-> Текущая куча: [(11, 2, 3)]\n",
            "Взяли минимальный элемент: 11 (из массива 2, индекс 3)\n",
            "-> Текущий результат: [0, 1, 2, 3, 4, 5, 6, 7, 8, 9, 11]\n",
            "Массив 2 закончился\n"
          ]
        },
        {
          "output_type": "execute_result",
          "data": {
            "text/plain": [
              "[0, 1, 2, 3, 4, 5, 6, 7, 8, 9, 11]"
            ]
          },
          "metadata": {},
          "execution_count": 63
        }
      ]
    },
    {
      "cell_type": "markdown",
      "source": [
        "## K-ый наименьший эелемент в BST\n",
        "\n",
        "- Создаём стек для хранения узлов и счётчик\n",
        "- Начинаем обход с корня\n",
        "- Идём влево до конца\n",
        "- Записываем значения в стек\n",
        "- Извлекаем значение из вершины стека\n",
        "- Увеличиваем счётчик\n",
        "- Если `counter == k`, возвращаем значение узла\n",
        "- Если нет — переходим в правое поддерево\n",
        "- Переписываем текущее значение на значение из правого поддерева"
      ],
      "metadata": {
        "id": "IADIG5xEoIgP"
      }
    },
    {
      "cell_type": "code",
      "source": [
        "def kth_smallest(root, k):\n",
        "    stack = []\n",
        "    counter = 0\n",
        "    current = root\n",
        "\n",
        "    print(\"Начинаем in-order обход BST...\\n\")\n",
        "\n",
        "    while stack or current:\n",
        "        while current: # идём влево до самого конца\n",
        "            print(f\"Идём влево: добавляем {current.val} в стек\")\n",
        "            stack.append(current)\n",
        "            current = current.left\n",
        "        current = stack.pop()\n",
        "        counter += 1\n",
        "        print(f\"\\nИзвлекли из стека: {current.val}, это {counter}-й элемент\")\n",
        "\n",
        "        if counter == k:\n",
        "            print(f\"\\nНайден k-й наименьший элемент: {current.val}\")\n",
        "            return current.val\n",
        "        print(f\"Переход в правое поддерево от {current.val}\")\n",
        "        current = current.right\n",
        "    return None # если k больше количества узлов"
      ],
      "metadata": {
        "id": "QdTq4W3_eXI9"
      },
      "execution_count": 64,
      "outputs": []
    },
    {
      "cell_type": "code",
      "source": [
        "root = TreeNode(16)\n",
        "root.left = TreeNode(10)\n",
        "root.right = TreeNode(22)\n",
        "root.left.left = TreeNode(6)\n",
        "root.left.right = TreeNode(12)\n",
        "root.right.left = TreeNode(18)\n",
        "root.right.right = TreeNode(24)\n",
        "\n",
        "root.left.left.left = TreeNode(2)\n",
        "root.left.left.right = TreeNode(8)\n",
        "root.left.right.left = TreeNode(11)\n",
        "root.left.right.right = TreeNode(13)\n",
        "\n",
        "root.right.left.left = TreeNode(17)\n",
        "root.right.left.right = TreeNode(21)\n",
        "root.right.right.left = TreeNode(23)\n",
        "root.right.right.right = TreeNode(27)\n",
        "\n",
        "print_tree(root)\n",
        "print('-' * 20)\n",
        "kth_smallest(root, 5)"
      ],
      "metadata": {
        "colab": {
          "base_uri": "https://localhost:8080/"
        },
        "id": "fs4G2mOsqIa8",
        "outputId": "b8d87161-8901-4bd4-94e6-6c3429ec9de3"
      },
      "execution_count": 65,
      "outputs": [
        {
          "output_type": "stream",
          "name": "stdout",
          "text": [
            "Root: 16\n",
            "    L--- 10\n",
            "        L--- 6\n",
            "            L--- 2\n",
            "            R--- 8\n",
            "        R--- 12\n",
            "            L--- 11\n",
            "            R--- 13\n",
            "    R--- 22\n",
            "        L--- 18\n",
            "            L--- 17\n",
            "            R--- 21\n",
            "        R--- 24\n",
            "            L--- 23\n",
            "            R--- 27\n",
            "--------------------\n",
            "Начинаем in-order обход BST...\n",
            "\n",
            "Идём влево: добавляем 16 в стек\n",
            "Идём влево: добавляем 10 в стек\n",
            "Идём влево: добавляем 6 в стек\n",
            "Идём влево: добавляем 2 в стек\n",
            "\n",
            "Извлекли из стека: 2, это 1-й элемент\n",
            "Переход в правое поддерево от 2\n",
            "\n",
            "Извлекли из стека: 6, это 2-й элемент\n",
            "Переход в правое поддерево от 6\n",
            "Идём влево: добавляем 8 в стек\n",
            "\n",
            "Извлекли из стека: 8, это 3-й элемент\n",
            "Переход в правое поддерево от 8\n",
            "\n",
            "Извлекли из стека: 10, это 4-й элемент\n",
            "Переход в правое поддерево от 10\n",
            "Идём влево: добавляем 12 в стек\n",
            "Идём влево: добавляем 11 в стек\n",
            "\n",
            "Извлекли из стека: 11, это 5-й элемент\n",
            "\n",
            "Найден k-й наименьший элемент: 11\n"
          ]
        },
        {
          "output_type": "execute_result",
          "data": {
            "text/plain": [
              "11"
            ]
          },
          "metadata": {},
          "execution_count": 65
        }
      ]
    },
    {
      "cell_type": "markdown",
      "source": [
        "## Balance Factor"
      ],
      "metadata": {
        "id": "9bLjyZufr2mT"
      }
    },
    {
      "cell_type": "code",
      "source": [
        "class TreeNode:\n",
        "    def __init__(self, val=0, left=None, right=None):\n",
        "        self.val = val\n",
        "        self.left = left\n",
        "        self.right = right\n",
        "        self.balance_factor = 0 # добавили баланс фактор в узел"
      ],
      "metadata": {
        "id": "YRCpYrw5r9MS"
      },
      "execution_count": 66,
      "outputs": []
    },
    {
      "cell_type": "code",
      "source": [
        "def calculate_heights_and_balance(root):\n",
        "    if not root:\n",
        "        return 0\n",
        "\n",
        "    left_height = calculate_heights_and_balance(root.left)  # рекурсивный вызов для левого и правого поддеревьев\n",
        "    right_height = calculate_heights_and_balance(root.right)\n",
        "\n",
        "    root.balance_factor = left_height - right_height\n",
        "    print(f\"Узел {root.val}: высота слева = {left_height}, справа = {right_height}, баланс = {root.balance_factor}\")\n",
        "\n",
        "    return 1 + max(left_height, right_height)"
      ],
      "metadata": {
        "id": "6ww4uR5Rqd0c"
      },
      "execution_count": 67,
      "outputs": []
    },
    {
      "cell_type": "code",
      "source": [
        "root = TreeNode(10)\n",
        "root.left = TreeNode(5)\n",
        "root.right = TreeNode(15)\n",
        "root.left.left = TreeNode(2)\n",
        "root.left.right = TreeNode(7)\n",
        "\n",
        "print_tree(root)\n",
        "print('-' * 20)\n",
        "\n",
        "calculate_heights_and_balance(root)"
      ],
      "metadata": {
        "colab": {
          "base_uri": "https://localhost:8080/"
        },
        "id": "EOL7DtrLss5C",
        "outputId": "e949bc8f-6f5f-4423-b6d4-239786eebee3"
      },
      "execution_count": 69,
      "outputs": [
        {
          "output_type": "stream",
          "name": "stdout",
          "text": [
            "Root: 10\n",
            "    L--- 5\n",
            "        L--- 2\n",
            "        R--- 7\n",
            "    R--- 15\n",
            "--------------------\n",
            "Узел 2: высота слева = 0, справа = 0, баланс = 0\n",
            "Узел 7: высота слева = 0, справа = 0, баланс = 0\n",
            "Узел 5: высота слева = 1, справа = 1, баланс = 0\n",
            "Узел 15: высота слева = 0, справа = 0, баланс = 0\n",
            "Узел 10: высота слева = 2, справа = 1, баланс = 1\n"
          ]
        },
        {
          "output_type": "execute_result",
          "data": {
            "text/plain": [
              "3"
            ]
          },
          "metadata": {},
          "execution_count": 69
        }
      ]
    },
    {
      "cell_type": "markdown",
      "source": [
        "## Преобразование в зеркальное дерево\n",
        "Нужно реализовать алгоритм, который перевернёт бинарное дерево \"вверх ногами\", т.е. поменяет местами левые и правые поддеревья каждого узла."
      ],
      "metadata": {
        "id": "jdON9tL9ttMJ"
      }
    },
    {
      "cell_type": "code",
      "source": [
        "def mirror_tree_iterative(root):\n",
        "    if not root:\n",
        "        return None\n",
        "\n",
        "    queue = deque([root])\n",
        "    while queue:\n",
        "        current = queue.popleft()\n",
        "        current.left, current.right = current.right, current.left\n",
        "        if current.left:\n",
        "            queue.append(current.left)\n",
        "        if current.right:\n",
        "            queue.append(current.right)\n",
        "    return root"
      ],
      "metadata": {
        "id": "k2MYPOEXsyHB"
      },
      "execution_count": 70,
      "outputs": []
    },
    {
      "cell_type": "code",
      "source": [
        "root = TreeNode(1)\n",
        "root.left = TreeNode(2)\n",
        "root.right = TreeNode(3)\n",
        "root.left.left = TreeNode(4)\n",
        "root.left.right = TreeNode(5)\n",
        "root.right.right = TreeNode(6)\n",
        "\n",
        "print_tree(root)\n",
        "print('-' * 20)\n",
        "mirror_tree_iterative(root)\n",
        "print(\"\\nОтзеркаленое дерево:\")\n",
        "print_tree(root)\n"
      ],
      "metadata": {
        "colab": {
          "base_uri": "https://localhost:8080/"
        },
        "id": "Qb4FOe8oukV4",
        "outputId": "528d49d6-809e-4460-9425-dafeb3f98861"
      },
      "execution_count": 71,
      "outputs": [
        {
          "output_type": "stream",
          "name": "stdout",
          "text": [
            "Root: 1\n",
            "    L--- 2\n",
            "        L--- 4\n",
            "        R--- 5\n",
            "    R--- 3\n",
            "        R--- 6\n",
            "--------------------\n",
            "\n",
            "Отзеркаленое дерево:\n",
            "Root: 1\n",
            "    L--- 3\n",
            "        L--- 6\n",
            "    R--- 2\n",
            "        L--- 5\n",
            "        R--- 4\n"
          ]
        }
      ]
    },
    {
      "cell_type": "code",
      "source": [],
      "metadata": {
        "id": "7qTAEyEMu17m"
      },
      "execution_count": null,
      "outputs": []
    }
  ]
}